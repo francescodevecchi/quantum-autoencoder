{
 "cells": [
  {
   "cell_type": "markdown",
   "metadata": {},
   "source": [
    "# Sez.0 Obbiettivo"
   ]
  },
  {
   "cell_type": "markdown",
   "metadata": {},
   "source": [
    "L'obbiettivo del progetto è costruire un circuito quantistico per la compressione e ricostruzione di uno stato a diversi tassi di compressione. La compressione avviene mediante un circuito ibrido classico-quantistico, in cui lo stato iniziale viene manipolato da un circuito parametrico di compressione (encoder), si calcola la fedeltà allo stato di partenza attraverso una procedura detta Swap Test, si ottiene quindi una funzione costo che può essere minimizzata da un ottimizzatore classico."
   ]
  },
  {
   "cell_type": "markdown",
   "metadata": {},
   "source": [
    "# Sez.1 Teoria"
   ]
  },
  {
   "cell_type": "markdown",
   "metadata": {},
   "source": [
    "## Sez 1.1 Setting"
   ]
  },
  {
   "cell_type": "markdown",
   "metadata": {},
   "source": [
    "<div style=\"text-align:center\">\n",
    "    <img src=\"./immagini/setting.png\" alt=\"Alt Text\" width=\"1000\">\n",
    "    <p><em>Figure 1</em></p>\n",
    "</div>"
   ]
  },
  {
   "cell_type": "markdown",
   "metadata": {},
   "source": [
    "Il circuito opera su $n$ qubit che codificano lo stato originale $|\\psi_{AB}\\rangle$ , che verranno ridotti a $m$ qubit durante la compressione; i restanti $n-m$ qubit costituiscono il trash space, che sarà fondamentale per la misura della funzione costo. Gli stati su cui si andrà a operare sono $|\\Psi\\rangle=|\\psi_{AB}\\rangle\\otimes|\\psi_{B'}\\rangle\\otimes|\\psi_{aux}\\rangle$ ovvero lo stato da comprimere, $|\\psi_{B'}\\rangle=|0\\rangle^{\\otimes m}$ e $|\\psi_{aux}\\rangle$ usati per una operazione di misura detta swap test.\n",
    "\n",
    "Possiamo considerare il circuito encoder come un generico operatore unitario $U(\\theta_i)_{AB}$ e quindi il decoder come il corrispondente hermitiano coniugato $U(\\theta_i)^\\dagger_{AB'}$, con la differenza che il decoder agisce sullo spazio latente (cioè quello dello stato compresso) e sul reference space (quello dello stato di reference $a\\psi{B'}$)\n"
   ]
  },
  {
   "cell_type": "markdown",
   "metadata": {},
   "source": [
    "<div style=\"text-align:center\">\n",
    "    <img src=\"./immagini/schema1.png\" alt=\"Alt Text\" width=\"600\">\n",
    "</div>\n"
   ]
  },
  {
   "cell_type": "markdown",
   "metadata": {},
   "source": [
    "La Loss più naturale per questo learner sarebbe la fedeltà tra lo stato originale e quello ricostruito $\\mathcal{L}= \\langle \\psi_{AB} | \\rho^{out} | \\psi_{AB} \\rangle $ ,\n",
    "dove $\\rho^{out}= U(\\theta_i)^\\dagger_{AB'} Tr_{B}\\big[U(\\theta_i)_{AB} |\\Psi\\rangle\\langle\\Psi| U(\\theta_i)^\\dagger_{AB} \\big] U(\\theta_i)_{AB'} $,\n",
    "tuttavia siccome lo stato originale non sarà più accessibile dopo la ricostruzione si deve trovare un'alternativa. Se consideriamo l'intero sistema possiamo trovare un modo:\n",
    "\n",
    "\\begin{array}{ll}\n",
    "F(|\\psi_{AB}\\rangle\\otimes|a_{B'}\\rangle,U(\\theta_i)^\\dagger_{AB}V_{BB'}U(\\theta_i)_{AB}|\\psi_{AB}\\rangle\\otimes|a_{B'}\\rangle)=\\\\ \\\\\n",
    "=F(U(\\theta_i)_{AB}|\\psi_{AB}\\rangle\\otimes|a_{B'}\\rangle,V_{BB'}U(\\theta_i)_{AB}|\\psi_{AB}\\rangle\\otimes|a_{B'}\\rangle)=\\\\ \\\\\n",
    "=F(|\\psi'_{AB}\\rangle\\otimes|a_{B'}\\rangle,|\\psi'_{AB'}\\rangle\\otimes|a_{B}\\rangle)\n",
    "\\end{array}\n",
    "\n",
    "dove $V_{BB'}$ è l'operatore che scambia i sistemi B e B'.\n",
    "A questo punto se si prende la traccia nel sistema B', cioè il trash space, si ritorna alla $\\mathcal{L}_1$, se invece si traccia su A e B, quindi lo spazio latente e il reference space,  rimane $\\mathcal{L}_2=F(|a_{B'}\\rangle, \\rho'_{B'} )$, cioè la fedeltà tra il reference state e il trash state $\\rho'_{B'}=Tr_{AB}\\big[|\\psi'_{AB}\\rangle\\langle\\psi'_{AB}|\\big] $.\n",
    "Il principale inconveniente di questa soluzione è che $\\mathcal{L}_2 \\geq \\mathcal{L}_1$, quindi è possibile che la performance che viene effettivamente misurata sia sovrastimata, tuttavia nel momento in cui una delle due è massima lo è anche l'altra, in quanto gli stati comparati sono identici.\n"
   ]
  },
  {
   "cell_type": "markdown",
   "metadata": {},
   "source": [
    "## Sez1.2 SWAP TEST"
   ]
  },
  {
   "cell_type": "markdown",
   "metadata": {},
   "source": [
    "<div style=\"text-align:center\">\n",
    "    <img src=\"./immagini/schema_SWAPTEST.png\" alt=\"Alt Text\" width=\"1000\">\n",
    "    <p><em>Figure 2</em></p>\n",
    "</div>"
   ]
  },
  {
   "cell_type": "markdown",
   "metadata": {},
   "source": [
    "La procedura che consente di misurare la Loss consta di una sequenza di entanglement e misura in base computazionale, si inizia con due stati da comparare, che chiameremo genericamente $|\\psi\\rangle$ e $|\\phi\\rangle$ e un qubit ancella in $|0\\rangle$ oggetto della misura. Si agisce con una porta H sulla ancella, poi la si usa come qubit di controllo in una porta CSWAP su due qubit corrispondenti di $|\\psi\\rangle$ e $|\\phi\\rangle$, ripetendo l'operazione fino a scambiare del tutto i due stati, si opera nuovamente con H sull'ancella e infine si misura la medesima in base computazionale. Il risultato di tale procedura è il seguente:\n",
    "\n",
    "\\begin{array}{ll}\n",
    "|0\\rangle \\otimes |\\psi\\rangle \\otimes |\\phi\\rangle \\rightarrow \\frac{1}{\\sqrt{2}}[|0\\rangle+|1\\rangle]\\otimes |\\psi\\rangle \\otimes |\\phi\\rangle =\\\\\n",
    "\\frac{1}{\\sqrt{2}}[|0\\rangle \\otimes |\\psi\\rangle \\otimes |\\phi\\rangle+|1\\rangle \\otimes |\\psi\\rangle \\otimes |\\phi\\rangle]\\rightarrow \\\\\n",
    "\\frac{1}{\\sqrt{2}}[|0\\rangle \\otimes |\\psi\\rangle \\otimes |\\phi\\rangle+|1\\rangle \\otimes |\\phi\\rangle \\otimes |\\psi\\rangle]\\rightarrow\\\\\n",
    "\\frac{1}{2}[|0\\rangle|\\psi\\rangle|\\phi\\rangle+|1\\rangle|\\psi\\rangle|\\phi\\rangle+|0\\rangle|\\phi\\rangle|\\psi\\rangle-|1\\rangle|\\phi\\rangle|\\psi\\rangle]=\\\\\n",
    "\\frac{1}{2}|0\\rangle[|\\psi\\rangle|\\phi\\rangle+|\\phi\\rangle|\\psi\\rangle]+\\frac{1}{2}|1\\rangle[|\\psi\\rangle|\\phi\\rangle-|\\phi\\rangle|\\psi\\rangle]\n",
    "\\end{array}\n",
    "Ora, la probabilità di misurare $0$ è\n",
    "\\begin{array}{ll}\n",
    "\\frac{1}{4}\\big[ \\langle \\psi \\phi|+\\langle \\phi \\psi|\\big]\\big[ |\\psi\\phi\\rangle+|\\phi\\psi\\rangle \\big] =\n",
    "\\frac{1}{2}+\\langle \\psi \\phi|\\phi\\psi\\rangle\\langle \\phi \\psi|\\psi\\phi\\rangle=\\\\\n",
    "\\frac{1}{2}+\\big|\\langle \\psi \\phi|\\phi\\psi\\rangle\\big|^2=\\frac{1}{2}+F(|\\psi\\rangle, |\\phi\\rangle)\n",
    "\\end{array}\n",
    "\n",
    "dunque misurando ripetutamente lo stesso circuito possiamo ottenere una stima di questa probabilità come frequenza relativa degli zeri su tutti i tentativi.\n"
   ]
  },
  {
   "cell_type": "markdown",
   "metadata": {},
   "source": [
    "# Sez2 Implementazione"
   ]
  },
  {
   "cell_type": "markdown",
   "metadata": {},
   "source": [
    "Per implementare il circuito di cui sopra si è usato Qiskit, una libreria Python per la programmazione di circuiti quantistici."
   ]
  },
  {
   "cell_type": "code",
   "execution_count": 1,
   "metadata": {},
   "outputs": [],
   "source": [
    "from qiskit import QuantumCircuit, Aer, transpile, assemble\n",
    "from qiskit.circuit.library import RealAmplitudes #RealAmplitudes is a variational form that can be used as ansatz\n",
    "from qiskit_algorithms.optimizers import COBYLA #COBYLA is a classical optimizer\n",
    "from qiskit_machine_learning.neural_networks import SamplerQNN \n",
    "import numpy as np\n",
    "import matplotlib.pyplot as plt\n",
    "from IPython.display import clear_output\n",
    "\n",
    "\n",
    "import json\n",
    "import time\n",
    "import warnings\n",
    "\n",
    "from quantum import * #importing the functions from the quantum.py file"
   ]
  },
  {
   "cell_type": "markdown",
   "metadata": {},
   "source": [
    "Nel modulo quantum.py sono definite le funzioni AnsatzeBuilder, SwaptestBuilder ed EncoderBuilder che restituiscono i corrispondenti circuiti quantistici (si veda file per dettagli)."
   ]
  },
  {
   "cell_type": "markdown",
   "metadata": {},
   "source": [
    "### Sez 2.1 Costruzione del Encoder"
   ]
  },
  {
   "cell_type": "markdown",
   "metadata": {},
   "source": [
    "Si definiscono lo stato iniziale che si vuole comprimere (q), la dimensione dello stato compresso e la profondità del circuito parametrico RealAmplitudes associato all'encoder. Viene costruito l'encoder attraverso la funzione EncoderBuilder, che restituisce un circuito composto dal circuito parametrico RealAmplitudes seguito dal circuito che esegue lo SWAP test."
   ]
  },
  {
   "cell_type": "code",
   "execution_count": 2,
   "metadata": {},
   "outputs": [],
   "source": [
    "#Parametri\n",
    "q = [0,0,1,1,1,0,0,0,0,0] #input state\n",
    "EncodedStateDimension = 3\n",
    "Depth = 3\n",
    "\n",
    "#Costruisco encoder\n",
    "InputStateDimension = len(q)\n",
    "Encoder = EncoderBuilder(InputStateDimension, EncodedStateDimension, Depth)\n",
    "#Costruisco circuito generico, resetto qubit a 0 e applico X ai qubit 2,3,4\n",
    "Circuit = QuantumCircuit(Encoder.num_qubits, Encoder.num_clbits)\n",
    "for i in range(Circuit.num_qubits):\n",
    "    Circuit.reset(i)\n",
    "for i in range(InputStateDimension):\n",
    "    if q[i] == 1:\n",
    "        Circuit.x(i)\n",
    "Circuit.compose(Encoder, inplace=True)\n",
    "#Circuit.draw('mpl', filename='circuit.png')\n",
    "#Circuit.draw()"
   ]
  },
  {
   "cell_type": "markdown",
   "metadata": {},
   "source": [
    "<div style=\"text-align:center\">\n",
    "    <img src=\"./immagini/circuit.png\" alt=\"Alt Text\" width=\"1000\">\n",
    "    <p><em>Figure 3: schema circuito completo. q = [0,0,1,1,1,0,0,0,0,0], EncodedStateDimension = 3, Depth = 3</em></p>\n",
    "\n",
    "</div>\n"
   ]
  },
  {
   "cell_type": "markdown",
   "metadata": {},
   "source": [
    "#### Sez 2.1.1 RealAmplitudes"
   ]
  },
  {
   "cell_type": "markdown",
   "metadata": {},
   "source": [
    "Per implementare un encoder con un circuito quantistico è necessario definire l'operatore unitario $U(\\theta_i)$, in modo che il numero di gate (e quindi di parametri) scali in modo polinomiale rispetto al numero di qubit di input. Una delle possibilità è quella di impiegare un circuito \"modulare\", in cui un circuito \"modulo\" viene ripetuto un certo numero di volte (Depth del circuito). Abbiamo utilizzato un circuito 2-locale, che permettesse rotazione di ogni singolo qubit ad ogni layer e entanglement tra 2 qubit adiacenti. Un semplice circuito parametrico 2-locale già presente nella libreria qiskit è RealAmplitudes (Figura 3)."
   ]
  },
  {
   "cell_type": "markdown",
   "metadata": {},
   "source": [
    "<div style=\"text-align:center\">\n",
    "    <img src=\"./immagini/schema_RealAmplitudes.png\" alt=\"Alt Text\" width=\"1000\">\n",
    "    <p><em>Figure 4: schema circuito RealAmplitudes. InputDimension = 5, Depth = 5</em></p>\n",
    "</div>"
   ]
  },
  {
   "cell_type": "markdown",
   "metadata": {},
   "source": [
    "#### Sez2.1.2 SWAP TEST"
   ]
  },
  {
   "cell_type": "markdown",
   "metadata": {},
   "source": [
    "Per addestrare $U(\\theta_i)$ alla compressione degli stati, è necessario calcolare una funzione costo. Come descritto nella sezione 1.2 la funzione costo è misurata come la fedeltà del Trash Space al Reference Space, della stessa dimensione del precedente e composto da qubit nello stato |0>. Una volta applicato il circutio la fedeltà tra i due blocchi può essere misurata come la probabilità di misurare |0> sul qubit ancella. La funzione SwaptestBuilder ritorna il circuito di swap test con un operatore di misura sul qubit ancella verso un canale classico."
   ]
  },
  {
   "cell_type": "markdown",
   "metadata": {},
   "source": [
    "<div style=\"text-align:center\">\n",
    "    <img src=\"./immagini/SWAP.png\" alt=\"Alt Text\" width=\"500\">\n",
    "    <p><em>Figure 5: schema circuito SWAPTEST con Trash Space dimension = 7</em></p>\n",
    "</div>"
   ]
  },
  {
   "cell_type": "markdown",
   "metadata": {},
   "source": [
    "### Sez 2.2 Addestramento"
   ]
  },
  {
   "cell_type": "markdown",
   "metadata": {},
   "source": [
    "<div style=\"text-align:center\">\n",
    "    <img src=\"./immagini/hybrid.png\" alt=\"Alt Text\" width=\"500\">\n",
    "    <p><em>Figure 6: Rappresentazione del sistema ibrido classico-quantistico per l'addestramento dell'autoencoder.</em></p>\n",
    "</div>"
   ]
  },
  {
   "cell_type": "markdown",
   "metadata": {},
   "source": [
    "Possiamo definire la funzione costo come la probabilità di ottenere |1> sul qubit ancella. Questo dato classico può essere passato ad un ottimizzatore classico per il calcolo di un nuovo set di parametri."
   ]
  },
  {
   "cell_type": "markdown",
   "metadata": {},
   "source": [
    "La funzione di qiskit SamplerQNN funge da interfaccia tra il circuito parametrico costruito fin ora e il simulatore di qiskit (Aer). In particolare vengono passati alla funzione circuito, parametri da ottimizzare e parametri iniziali. Gli argomento interpreter e output_shape dipendono dal circuito che stiamo passando e dal simulatore."
   ]
  },
  {
   "cell_type": "code",
   "execution_count": 9,
   "metadata": {},
   "outputs": [],
   "source": [
    "# Interprete per SamplerQNN\n",
    "def identity_interpret(x):\n",
    "    return x\n",
    "\n",
    "qnn = SamplerQNN(\n",
    "    circuit=Circuit, #circuito completo\n",
    "    input_params=[], #guess iniziale lasciato a SamplerQNN, quindi randomici\n",
    "    weight_params=Circuit.parameters, #identificato i parametri del circuito, quindi i parametri di RealAmplitudes\n",
    "    interpret=identity_interpret,\n",
    "    output_shape=2, #l'output del circuito può essere 1 o 0, una stringa binaria di dimensione 2\n",
    ")"
   ]
  },
  {
   "cell_type": "markdown",
   "metadata": {},
   "source": [
    "Definiamo cost_function che calcola la funzione costo dato un set di parametri in input. I parametri vengono passati al simulatore e otteniamo le nuove probabilità. Ogni valore di cost viene salvato in un array, che viene plottato ogni volta che la funzione viene chiamata."
   ]
  },
  {
   "cell_type": "code",
   "execution_count": 4,
   "metadata": {},
   "outputs": [],
   "source": [
    "def cost_function(params_values):\n",
    "    #calcolo probabilità passando i nuovi parametri\n",
    "    probabilities = qnn.forward([], params_values)\n",
    "    # probabilità di ottenere 1 come output della simulazione, cioè la funzione costo\n",
    "    cost = np.sum(probabilities[:, 1])\n",
    "\n",
    "    # plotting part\n",
    "    clear_output(wait=True)\n",
    "    objective_func_vals.append(cost)\n",
    "    plt.title(\"Objective function value against iteration\")\n",
    "    plt.xlabel(\"Iteration\")\n",
    "    plt.ylabel(\"Objective function value\")\n",
    "    plt.plot(range(len(objective_func_vals)), objective_func_vals)\n",
    "    plt.show()\n",
    "    return cost\n"
   ]
  },
  {
   "cell_type": "markdown",
   "metadata": {},
   "source": [
    "#### Sez 2.2.1 COBYLA"
   ]
  },
  {
   "cell_type": "markdown",
   "metadata": {},
   "source": [
    "#### Sez. 2.2.2 Risultati"
   ]
  },
  {
   "cell_type": "code",
   "execution_count": null,
   "metadata": {},
   "outputs": [],
   "source": [
    "objective_func_vals = []\n",
    "# Initialize the COBYLA optimizer\n",
    "opt = COBYLA(maxiter=300)\n",
    "num_parameters = Circuit.num_parameters\n",
    "initial_point = np.random.rand(num_parameters)  # Set the initial parameters\n",
    "print('Number of parameters in quantum circuit: ',Circuit.num_parameters)\n",
    "print('Initial parameters in quantum circuit: ',initial_point)\n",
    "\n",
    "# Perform optimization\n",
    "start = time.time()\n",
    "opt_result = opt.minimize(cost_function,initial_point)\n",
    "#print('Cost function value:', cost_function(initial_point))\n",
    "elapsed = time.time() - start\n",
    "\n",
    "print(f\"Fit in {elapsed:0.2f} seconds\")"
   ]
  },
  {
   "cell_type": "markdown",
   "metadata": {},
   "source": [
    "# TEST"
   ]
  },
  {
   "cell_type": "code",
   "execution_count": 7,
   "metadata": {},
   "outputs": [],
   "source": [
    "#Parametri\n",
    "q = [0,0,1,1,1] #input state\n",
    "EncodedStateDimension = 3\n",
    "Depth = 3\n",
    "\n",
    "#Costruisco encoder\n",
    "InputStateDimension = len(q)\n",
    "Encoder = EncoderBuilder(InputStateDimension, EncodedStateDimension, Depth)\n",
    "#Costruisco circuito generico, resetto qubit a 0 e applico X ai qubit 2,3,4\n",
    "Circuit = QuantumCircuit(Encoder.num_qubits, Encoder.num_clbits)\n",
    "for i in range(Circuit.num_qubits):\n",
    "    Circuit.reset(i)\n",
    "for i in range(InputStateDimension):\n",
    "    if q[i] == 1:\n",
    "        Circuit.x(i)\n",
    "Circuit.compose(Encoder, inplace=True)\n",
    "#Circuit.draw('mpl', filename='circuit.png')\n",
    "#Circuit.draw()\n",
    "\n",
    "qnn = SamplerQNN(\n",
    "    circuit=Circuit, #circuito completo\n",
    "    input_params=[], #guess iniziale lasciato a SamplerQNN, quindi randomici\n",
    "    weight_params=Circuit.parameters, #identificato i parametri del circuito, quindi i parametri di RealAmplitudes\n",
    "    interpret=identity_interpret,\n",
    "    output_shape=2, #l'output del circuito può essere 1 o 0, una stringa binaria di dimensione 2\n",
    ")"
   ]
  },
  {
   "cell_type": "code",
   "execution_count": 11,
   "metadata": {},
   "outputs": [
    {
     "data": {
      "image/png": "[encoded data removed]",
      "text/plain": [
       "<Figure size 640x480 with 1 Axes>"
      ]
     },
     "metadata": {},
     "output_type": "display_data"
    },
    {
     "name": "stdout",
     "output_type": "stream",
     "text": [
      "Fit in 9.09 seconds\n",
      "Cost function value: 0.2012476485779778\n"
     ]
    }
   ],
   "source": [
    "def generate_random_binary_vector(dim):\n",
    "    return np.random.randint(2, size=dim)\n",
    "\n",
    "#Definisco qubit randomico di dimensione n\n",
    "vector_dimension = 2\n",
    "q = generate_random_binary_vector(vector_dimension)\n",
    "\n",
    "EncodedStateDimension = 3\n",
    "Depth = 3\n",
    "\n",
    "#Costruisco encoder\n",
    "InputStateDimension = len(q)\n",
    "Encoder = EncoderBuilder(InputStateDimension, EncodedStateDimension, Depth)\n",
    "#Costruisco circuito generico, resetto qubit a 0 e applico X ai qubit 2,3,4\n",
    "Circuit = QuantumCircuit(Encoder.num_qubits, Encoder.num_clbits)\n",
    "for i in range(Circuit.num_qubits):\n",
    "    Circuit.reset(i)\n",
    "for i in range(InputStateDimension):\n",
    "    if q[i] == 1:\n",
    "        Circuit.x(i)\n",
    "Circuit.compose(Encoder, inplace=True)\n",
    "#Circuit.draw('mpl', filename='circuit.png')\n",
    "#Circuit.draw()\n",
    "\n",
    "qnn = SamplerQNN(\n",
    "circuit=Circuit, #circuito completo\n",
    "input_params=[], #guess iniziale lasciato a SamplerQNN, quindi randomici\n",
    "weight_params=Circuit.parameters, #identificato i parametri del circuito, quindi i parametri di RealAmplitudes\n",
    "interpret=identity_interpret,\n",
    "output_shape=2, #l'output del circuito può essere 1 o 0, una stringa binaria di dimensione 2\n",
    ")\n",
    "\n",
    "objective_func_vals = []\n",
    "# Initialize the COBYLA optimizer\n",
    "opt = COBYLA(maxiter=50)\n",
    "num_parameters = Circuit.num_parameters\n",
    "initial_point = np.random.rand(num_parameters)  # Set the initial parameters\n",
    "print('Number of parameters in quantum circuit: ',Circuit.num_parameters)\n",
    "print('Initial parameters in quantum circuit: ',initial_point)\n",
    "\n",
    "# Perform optimization\n",
    "start = time.time()\n",
    "opt_result = opt.minimize(cost_function,initial_point)\n",
    "#print('Cost function value:', cost_function(initial_point))\n",
    "elapsed = time.time() - start\n",
    "\n",
    "print(f\"Fit in {elapsed:0.2f} seconds\")\n",
    "\n",
    "#print last element of objective_func_vals\n",
    "print('Cost function value:', objective_func_vals[-1])"
   ]
  },
  {
   "cell_type": "code",
   "execution_count": 12,
   "metadata": {},
   "outputs": [
    {
     "name": "stdout",
     "output_type": "stream",
     "text": [
      "Random Binary Vector: [0 1 0 1 1 0 1 1 1 1]\n"
     ]
    }
   ],
   "source": [
    "import numpy as np\n",
    "\n"
   ]
  }
 ],
 "metadata": {
  "kernelspec": {
   "display_name": "Python 3",
   "language": "python",
   "name": "python3"
  },
  "language_info": {
   "codemirror_mode": {
    "name": "ipython",
    "version": 3
   },
   "file_extension": ".py",
   "mimetype": "text/x-python",
   "name": "python",
   "nbconvert_exporter": "python",
   "pygments_lexer": "ipython3",
   "version": "3.11.2"
  }
 },
 "nbformat": 4,
 "nbformat_minor": 2
}
