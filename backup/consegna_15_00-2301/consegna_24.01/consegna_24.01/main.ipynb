{
 "cells": [
  {
   "cell_type": "markdown",
   "metadata": {},
   "source": [
    "# Abstract"
   ]
  },
  {
   "cell_type": "markdown",
   "metadata": {
    "tags": []
   },
   "source": [
    "L'obbiettivo del progetto è costruire un circuito quantistico per la compressione e ricostruzione di uno stato a diversi tassi di compressione. Lo stato iniziale a n qubit, viene manipolato da un circuito 2-locale (RealAmplitudes) in cui le rotazioni sono parametri del sistema, da ottimizzare in modo che all'uscita del circuito si trovi una rappresentazione codificata dello stato iniziale in cui venga mantenuta quanta più informazione possibile di esso. Data la natura degli stati e del circuito quantistici, non è possibile addestrare i parametri come in un autoencoder classico. La funzione costo viene ricavata attraverso un ulteriore circuito quantistico detto swap test, che presenta un output classico. L'ottimizazione avviene attraverso un algoritmo classico: COBYLA(Constrained Optimization by Linear Approximation). Si tratta di un metodo iterativo per l'ottimizzazione vincolata senza l'uso di derivate, in modo da evitare la delicata operazione di backpropagation attraverso il circuito quantistico. Vengono prodotte heatmap al fine di caratterizzare il funzionamento del circuito per diversi valori di iperparametri."
   ]
  },
  {
   "cell_type": "markdown",
   "metadata": {},
   "source": [
    "# Sezione 1 Introduzione"
   ]
  },
  {
   "cell_type": "markdown",
   "metadata": {},
   "source": [
    "## Sez 1.1 Modello del circuito"
   ]
  },
  {
   "cell_type": "markdown",
   "metadata": {},
   "source": [
    "<div style=\"text-align:center\">\n",
    "    <img src=\"./immagini/setting.png\" alt=\"Alt Text\" width=\"1000\">\n",
    "    <p><em>Figure 1: lo stato di input è definito sullo spazio latente A e il trash space B. Il reference space (B') e il qubit ausiliario verranno usati nel circuito di SWAP TEST Rif. [2]</em></p>\n",
    "</div>"
   ]
  },
  {
   "cell_type": "markdown",
   "metadata": {},
   "source": [
    "La compressione degli stati è realizzata mediante un circuito che opera su $n$ qubit che codificano lo stato originale $|\\psi_{AB}\\rangle$ , che verranno ridotti a $m$ qubit; i restanti $n-m$ qubit costituiscono il Trash Space, che sarà fondamentale per la misura della funzione costo.\n",
    "Gli stati su cui si andrà a operare sono $|\\Psi\\rangle=|\\psi_{AB}\\rangle\\otimes|a_{B'}\\rangle$ ovvero lo stato da comprimere e $|a_{B'}\\rangle=|0\\rangle^{\\otimes m}$, usato come reference per una operazione di misura detta swap test.\n",
    "\n",
    "Considerando il circuito encoder come un generico operatore unitario $U(\\theta_i)_{AB}$, il decoder è il corrispondente hermitiano coniugato $U(\\theta_i)^\\dagger_{AB'}$, con la differenza che il decoder agisce sullo spazio latente (cioè quello dello stato compresso) e sul reference space (quello dello stato di reference $a_{B'}$), che sostituisce i qubit scartati dall'encoder.\n"
   ]
  },
  {
   "cell_type": "markdown",
   "metadata": {},
   "source": [
    "<div style=\"text-align:center\">\n",
    "    <img src=\"./immagini/schema1.png\" alt=\"Alt Text\" width=\"600\">\n",
    "    <p><em>Figure 2: Struttura del circuito. Rif. [2]</em></p>\n",
    "\n",
    "</div>\n"
   ]
  },
  {
   "cell_type": "markdown",
   "metadata": {},
   "source": [
    "La Loss più naturale per questo learner sarebbe la fedeltà tra lo stato originale e quello ricostruito $\\mathcal{L}_1= F(|\\psi_{AB}\\rangle,\\rho^{out})= \\langle \\psi_{AB} | \\rho^{out} | \\psi_{AB} \\rangle $ ,\n",
    "dove $\\rho^{out}= U(\\theta_i)^\\dagger_{AB'} Tr_{B}\\big[U(\\theta_i)_{AB} |\\Psi\\rangle\\langle\\Psi| U(\\theta_i)^\\dagger_{AB} \\big] U(\\theta_i)_{AB'} $, nella espressione precedente con A si intende il latent space,  B indica il trash space e B' il reference space, il significato dell'espressione è dunque applicare l'encoder, che agisce su A e B, rimuovere il trash con la traccia su B e ricostruire con il decoder, che agisce su A e su B'.\n",
    "Sfortunatamente siccome nel caso più generale lo stato originale non sarà più accessibile dopo la ricostruzione e non è possibile produrne una copia prima dell'encoding si deve trovare un'alternativa. Se consideriamo l'intero sistema possiamo trovare un modo, usando semplicemente le proprietà del prodotto scalare, siccome per stati puri $F(|\\chi\\rangle,|\\phi\\rangle)=|\\langle\\phi|\\chi\\rangle|^2$:\n",
    "\n",
    "\\begin{array}{ll}\n",
    "F(|\\psi_{AB}\\rangle\\otimes|a_{B'}\\rangle,U(\\theta_i)^\\dagger_{AB}V_{BB'}U(\\theta_i)_{AB}|\\psi_{AB}\\rangle\\otimes|a_{B'}\\rangle)=\\\\ \\\\\n",
    "=F(U(\\theta_i)_{AB}|\\psi_{AB}\\rangle\\otimes|a_{B'}\\rangle,V_{BB'}U(\\theta_i)_{AB}|\\psi_{AB}\\rangle\\otimes|a_{B'}\\rangle)=\\\\ \\\\\n",
    "=F(|\\psi'_{AB}\\rangle\\otimes|a_{B'}\\rangle,|\\psi'_{AB'}\\rangle\\otimes|a_{B}\\rangle)\n",
    "\\end{array}\n",
    "\n",
    "dove $V_{BB'}$ è l'operatore che scambia i sistemi B e B' e $|\\psi'_{AB}\\rangle=U(\\theta_i)_{AB}|\\psi_{AB}\\rangle$, nel contesto del sistema che comprende A, B e B' si scambiano reference e trash per effettuare la ricostruzione.  \n",
    "A questo punto se si prende la traccia nel sistema B', cioè il trash space, si ritorna alla $\\mathcal{L}_1$, se invece si traccia su A e B, quindi lo spazio latente e il reference space,  rimane $\\mathcal{L}_2=F(|a_{B'}\\rangle, \\rho'_{B'} )$, cioè la fedeltà tra il reference state e il trash state $\\rho'_{B'}=Tr_{AB}\\big[|\\psi'_{AB'}a_{B}\\rangle\\langle\\psi'_{AB'}a_{B}|\\big] $.\n",
    "Un altro vantaggio di questa strategia è che l'unica operazione richiesta per misurare la Loss coinvolge solo trash state e reference state, senza necessità di ricostruire lo stato in fase di apprendimento, quindi con minore probabilità di errori nel corso dell'esecuzione.\n",
    "Il principale inconveniente di questa soluzione è che $\\mathcal{L}_2 \\geq \\mathcal{L}_1$, quindi è possibile che la performance che viene effettivamente misurata durante il learning sia sovrastimata, tuttavia nel momento in cui una delle due è massima lo è anche l'altra, in quanto gli stati del sistema complessivo ABB' sono identici, dunque anche tutti gli stati dei sottosistemi lo saranno."
   ]
  },
  {
   "cell_type": "markdown",
   "metadata": {},
   "source": [
    "## Sez1.2 SWAP TEST"
   ]
  },
  {
   "cell_type": "markdown",
   "metadata": {},
   "source": [
    "<div style=\"text-align:center\">\n",
    "    <img src=\"./immagini/schema_SWAPTEST.png\" alt=\"Alt Text\" width=\"1000\">\n",
    "    <p><em>Figure 3: circuito SWAP TEST. Rif [2]</em></p>\n",
    "</div>"
   ]
  },
  {
   "cell_type": "markdown",
   "metadata": {},
   "source": [
    "La procedura che consente di misurare la Loss consta di una sequenza di entanglement e misura in base computazionale, si inizia con due stati da comparare, che chiameremo genericamente $|\\psi\\rangle$ e $|\\phi\\rangle$ e un qubit ancella in $|0\\rangle$ oggetto della misura. Si agisce con una porta H sulla ancella, poi la si usa come qubit di controllo in una porta CSWAP su due qubit corrispondenti di $|\\psi\\rangle$ e $|\\phi\\rangle$, ripetendo l'operazione fino a scambiare del tutto i due stati, si opera nuovamente con H sull'ancella e infine si misura la medesima in base computazionale. Il risultato di tale procedura è il seguente:\n",
    "\n",
    "\\begin{array}{ll}\n",
    "|0\\rangle \\otimes |\\psi\\rangle \\otimes |\\phi\\rangle \\rightarrow \\frac{1}{\\sqrt{2}}[|0\\rangle+|1\\rangle]\\otimes |\\psi\\rangle \\otimes |\\phi\\rangle =\\\\\n",
    "\\frac{1}{\\sqrt{2}}[|0\\rangle \\otimes |\\psi\\rangle \\otimes |\\phi\\rangle+|1\\rangle \\otimes |\\psi\\rangle \\otimes |\\phi\\rangle]\\rightarrow \\\\\n",
    "\\frac{1}{\\sqrt{2}}[|0\\rangle \\otimes |\\psi\\rangle \\otimes |\\phi\\rangle+|1\\rangle \\otimes |\\phi\\rangle \\otimes |\\psi\\rangle]\\rightarrow\\\\\n",
    "\\frac{1}{2}[|0\\rangle|\\psi\\rangle|\\phi\\rangle+|1\\rangle|\\psi\\rangle|\\phi\\rangle+|0\\rangle|\\phi\\rangle|\\psi\\rangle-|1\\rangle|\\phi\\rangle|\\psi\\rangle]=\\\\\n",
    "\\frac{1}{2}|0\\rangle[|\\psi\\rangle|\\phi\\rangle+|\\phi\\rangle|\\psi\\rangle]+\\frac{1}{2}|1\\rangle[|\\psi\\rangle|\\phi\\rangle-|\\phi\\rangle|\\psi\\rangle]\n",
    "\\end{array}\n",
    "Ora, la probabilità di misurare $0$ è\n",
    "\\begin{array}{ll}\n",
    "\\frac{1}{4}\\big[ \\langle \\psi \\phi|+\\langle \\phi \\psi|\\big]\\big[ |\\psi\\phi\\rangle+|\\phi\\psi\\rangle \\big] =\n",
    "\\frac{1}{2}+\\langle \\psi \\phi|\\phi\\psi\\rangle\\langle \\phi \\psi|\\psi\\phi\\rangle=\\\\\n",
    "\\frac{1}{2}+\\big|\\langle \\psi \\phi|\\phi\\psi\\rangle\\big|^2=\\frac{1}{2}+\\frac{1}{2}F(|\\psi\\rangle, |\\phi\\rangle)\n",
    "\\end{array}\n",
    "\n",
    "dunque misurando ripetutamente lo stesso circuito possiamo ottenere una stima di questa probabilità come frequenza relativa degli zeri su tutti i tentativi.\n"
   ]
  },
  {
   "cell_type": "markdown",
   "metadata": {},
   "source": [
    "# Sezione 2 Implementazione"
   ]
  },
  {
   "cell_type": "markdown",
   "metadata": {},
   "source": [
    "Per implementare il circuito di cui sopra si è usato Qiskit, una libreria Python per la programmazione di circuiti quantistici."
   ]
  },
  {
   "cell_type": "code",
   "execution_count": 1,
   "metadata": {},
   "outputs": [],
   "source": [
    "from qiskit import QuantumCircuit, Aer, transpile, assemble\n",
    "from qiskit.circuit.library import RealAmplitudes #RealAmplitudes is a variational form that can be used as ansatz\n",
    "from qiskit_algorithms.optimizers import COBYLA #COBYLA is a classical optimizer\n",
    "from qiskit_machine_learning.neural_networks import SamplerQNN \n",
    "import numpy as np\n",
    "import matplotlib.pyplot as plt\n",
    "from IPython.display import clear_output\n",
    "\n",
    "\n",
    "import json\n",
    "import time\n",
    "import warnings\n",
    "\n",
    "from quantum import * #importing the functions from the quantum.py file"
   ]
  },
  {
   "cell_type": "markdown",
   "metadata": {},
   "source": [
    "Nel modulo quantum.py sono definite le funzioni AnsatzeBuilder, SwaptestBuilder ed EncoderBuilder che restituiscono i corrispondenti circuiti quantistici (si veda file per dettagli)."
   ]
  },
  {
   "cell_type": "markdown",
   "metadata": {},
   "source": [
    "### Sez 2.1 Costruzione del Encoder"
   ]
  },
  {
   "cell_type": "markdown",
   "metadata": {},
   "source": [
    "Si definiscono lo stato iniziale che si vuole comprimere (q), la dimensione dello stato compresso e la profondità del circuito parametrico RealAmplitudes associato all'encoder. Viene costruito l'encoder attraverso la funzione EncoderBuilder, che restituisce un circuito composto dal circuito parametrico RealAmplitudes seguito dal circuito che esegue lo SWAP test."
   ]
  },
  {
   "cell_type": "code",
   "execution_count": 2,
   "metadata": {},
   "outputs": [],
   "source": [
    "#Parametri\n",
    "q = [0,0,1,1,1,0,0,0,0,0] #input state\n",
    "EncodedStateDimension = 3\n",
    "Depth = 3\n",
    "\n",
    "#Costruisco encoder\n",
    "InputStateDimension = len(q)\n",
    "Encoder = EncoderBuilder(InputStateDimension, EncodedStateDimension, Depth)\n",
    "#Costruisco circuito generico, resetto qubit a 0 e applico X ai qubit 2,3,4\n",
    "Circuit = QuantumCircuit(Encoder.num_qubits, Encoder.num_clbits)\n",
    "for i in range(Circuit.num_qubits):\n",
    "    Circuit.reset(i)\n",
    "for i in range(InputStateDimension):\n",
    "    if q[i] == 1:\n",
    "        Circuit.x(i)\n",
    "Circuit.compose(Encoder, inplace=True)\n",
    "#Circuit.draw('mpl', filename='circuit.png')\n",
    "#Circuit.draw()"
   ]
  },
  {
   "cell_type": "markdown",
   "metadata": {},
   "source": [
    "<div style=\"text-align:center\">\n",
    "    <img src=\"./immagini/circuit.png\" alt=\"Alt Text\" width=\"1000\">\n",
    "    <p><em>Figure 4: schema circuito completo. q = [0,0,1,1,1,0,0,0,0,0], EncodedStateDimension = 3, Depth = 3</em></p>\n",
    "\n",
    "</div>\n"
   ]
  },
  {
   "cell_type": "markdown",
   "metadata": {},
   "source": [
    "Si salva lo stato iniziale, utile per valutare la fidelity al termine della ricostruzione dello stato compresso."
   ]
  },
  {
   "cell_type": "code",
   "execution_count": 3,
   "metadata": {},
   "outputs": [],
   "source": [
    "original_state = QuantumCircuit(len(q))\n",
    "for i in range(original_state.num_qubits):\n",
    "    original_state.reset(i)\n",
    "for i in range(InputStateDimension):\n",
    "    if q[i] == 1:\n",
    "        original_state.x(i)\n",
    "#original_state.draw()"
   ]
  },
  {
   "cell_type": "markdown",
   "metadata": {},
   "source": [
    "<div style=\"text-align:center\">\n",
    "    <img src=\"./immagini/OriginalState.jpeg\" alt=\"Alt Text\" width=\"200\">\n",
    "    <p><em>Figure 5: schema stato iniziale. q = [0,0,1,1,1,0,0,0,0,0]</em></p>\n",
    "\n",
    "</div>"
   ]
  },
  {
   "cell_type": "markdown",
   "metadata": {},
   "source": [
    "#### Sez 2.1.1 RealAmplitudes"
   ]
  },
  {
   "cell_type": "markdown",
   "metadata": {},
   "source": [
    "Per implementare un encoder con un circuito quantistico è necessario definire l'operatore unitario $U(\\theta_i)$, in modo che il numero di gate (e quindi di parametri) scali in modo polinomiale rispetto al numero di qubit di input. Una delle possibilità è quella di impiegare un circuito \"modulare\", in cui un circuito \"modulo\" viene ripetuto un certo numero di volte (Depth del circuito). Abbiamo utilizzato un circuito 2-locale, che permettesse rotazione di ogni singolo qubit ad ogni layer e entanglement tra 2 qubit adiacenti. Un semplice circuito parametrico 2-locale già presente nella libreria qiskit è RealAmplitudes (Figura 3)."
   ]
  },
  {
   "cell_type": "markdown",
   "metadata": {},
   "source": [
    "<div style=\"text-align:center\">\n",
    "    <img src=\"./immagini/schema_RealAmplitudes.png\" alt=\"Alt Text\" width=\"1000\">\n",
    "    <p><em>Figure 6: schema circuito RealAmplitudes. InputDimension = 5, Depth = 5</em></p>\n",
    "</div>"
   ]
  },
  {
   "cell_type": "markdown",
   "metadata": {},
   "source": [
    "#### Sez2.1.2 SWAP TEST"
   ]
  },
  {
   "cell_type": "markdown",
   "metadata": {},
   "source": [
    "Per addestrare $U(\\theta_i)$ alla compressione degli stati, è necessario calcolare una funzione costo. Come descritto nella sezione 1.2 la funzione costo è misurata come la fedeltà del Trash Space al Reference Space, della stessa dimensione del precedente e composto da qubit nello stato |0>. Una volta applicato il circutio la fedeltà tra i due blocchi può essere misurata come la probabilità di misurare |0> sul qubit ancella. La funzione SwaptestBuilder ritorna il circuito di swap test con un operatore di misura sul qubit ancella verso un canale classico."
   ]
  },
  {
   "cell_type": "markdown",
   "metadata": {},
   "source": [
    "<div style=\"text-align:center\">\n",
    "    <img src=\"./immagini/SWAP.png\" alt=\"Alt Text\" width=\"500\">\n",
    "    <p><em>Figure 7: schema circuito SWAPTEST con Trash Space dimension = 7</em></p>\n",
    "</div>"
   ]
  },
  {
   "cell_type": "markdown",
   "metadata": {},
   "source": [
    "### Sez 2.2 Addestramento"
   ]
  },
  {
   "cell_type": "markdown",
   "metadata": {},
   "source": [
    "<div style=\"text-align:center\">\n",
    "    <img src=\"./immagini/hybrid.png\" alt=\"Alt Text\" width=\"500\">\n",
    "    <p><em>Figure 8: Rappresentazione del sistema ibrido classico-quantistico per l'addestramento dell'autoencoder. Rif.[1]</em></p>\n",
    "</div>"
   ]
  },
  {
   "cell_type": "markdown",
   "metadata": {},
   "source": [
    "Possiamo definire la funzione costo come la probabilità di ottenere |1> sul qubit ancella. Questo dato classico può essere passato ad un ottimizzatore classico per il calcolo di un nuovo set di parametri."
   ]
  },
  {
   "cell_type": "markdown",
   "metadata": {},
   "source": [
    "La funzione di qiskit SamplerQNN funge da interfaccia tra il circuito parametrico costruito fin ora e il simulatore di qiskit (Aer). In particolare vengono passati alla funzione circuito, parametri da ottimizzare e parametri iniziali. Gli argomento interpreter e output_shape dipendono dal circuito che stiamo passando e dal simulatore."
   ]
  },
  {
   "cell_type": "code",
   "execution_count": 4,
   "metadata": {},
   "outputs": [],
   "source": [
    "# Interprete per SamplerQNN\n",
    "def identity_interpret(x):\n",
    "    return x\n",
    "\n",
    "qnn = SamplerQNN(\n",
    "    circuit=Circuit, #circuito completo\n",
    "    input_params=[], #guess iniziale lasciato a SamplerQNN, quindi randomici\n",
    "    weight_params=Circuit.parameters, #identificato i parametri del circuito, quindi i parametri di RealAmplitudes\n",
    "    interpret=identity_interpret,\n",
    "    output_shape=2, #l'output del circuito può essere 1 o 0, una stringa binaria di dimensione 2\n",
    ")"
   ]
  },
  {
   "cell_type": "markdown",
   "metadata": {},
   "source": [
    "Definiamo cost_function che calcola la funzione costo dato un set di parametri in input. I parametri vengono passati al simulatore e otteniamo le nuove probabilità. Ogni valore di cost viene salvato in un array, che viene plottato ogni volta che la funzione viene chiamata."
   ]
  },
  {
   "cell_type": "code",
   "execution_count": 5,
   "metadata": {},
   "outputs": [],
   "source": [
    "def cost_function(params_values):\n",
    "    #calcolo probabilità passando i nuovi parametri\n",
    "    probabilities = qnn.forward([], params_values)\n",
    "    # probabilità di ottenere 1 come output della simulazione, cioè la funzione costo\n",
    "    cost = np.sum(probabilities[:, 1])\n",
    "\n",
    "    # plotting part\n",
    "    clear_output(wait=True)\n",
    "    objective_func_vals.append(cost)\n",
    "    plt.title(\"Objective function value against iteration\")\n",
    "    plt.xlabel(\"Iteration\")\n",
    "    plt.ylabel(\"Objective function value\")\n",
    "    plt.plot(range(len(objective_func_vals)), objective_func_vals)\n",
    "    plt.show()\n",
    "    return cost\n"
   ]
  },
  {
   "cell_type": "markdown",
   "metadata": {},
   "source": [
    "#### Sez 2.2.1 COBYLA"
   ]
  },
  {
   "cell_type": "markdown",
   "metadata": {},
   "source": [
    "Constrained Optimization BY Linear Approximations (Rif. [3]) è un algoritmo di ottimizzazione di ricerca diretta, per ricerca diretta si intende un metodo per risolvere problemi di ottimizzazione che non richiede alcuna informazione sul gradiente della funzione obiettivo. A differenza dei metodi di ottimizzazione più tradizionali che utilizzano gradienti o derivate di ordine superiore per cercare un punto ottimale, un algoritmo di ricerca diretta esplora un insieme di punti intorno al punto corrente, cercandone uno in cui il valore della funzione obiettivo sia inferiore rispetto al valore nel punto corrente.\n",
    "Quindi, COBYLA è in grado di risolvere problemi espressi nella forma:\n",
    "\n",
    "\\begin{cases}\n",
    "    \\text{Minimizzo } F(\\mathbf{x}), & \\mathbf{x} \\in \\mathbb{R}^n \\\\\n",
    "    \\text{soggetta a } c_i(\\mathbf{x}) \\geq 0, & i = 1, \\ldots, m\n",
    "\\end{cases}\n",
    "\n",
    "Per farlo si basa sull'idea dell'algortimo di Nelder e Mead di utilizzare dei simplessi non degeneri in $\\mathbb{R}^n$. Così facendo si può dire che esistono delle funzioni lineari uniche $\\hat{F}$ e $\\hat{c}_i$ che interpolano $F$ e $c_i$ ai vertici. Quindi, l'obiettivo originario viene approssimato da un problema di programmazione lineare:\n",
    "\n",
    "\\begin{cases}\n",
    "   \\text{minimizzo } \\hat{F}(\\mathbf{x}), & \\mathbf{x} \\in \\mathbb{R}^n \\\\\n",
    "   \\text{soggetta a } \\hat{c}_i(\\mathbf{x}) \\geq 0, & i = 1, \\ldots, m\n",
    "\\end{cases}\n",
    "\n",
    "\n",
    "Operativamente, l'algoritmo parte generando un set di punti $\\textbf{x}^{(j)}$, con $j = 0, ..., n$, i quali sono i vertici del simplesso, prende in input un valore $\\rho > 0$ che è il raggio di una regione di confidenza, questa si riferisce all'area in cui la funzione obiettivo viene approssimata da un modello più semplice, ed infine un $\\mu > 0$ che è il parametro di una funzione di merito per il confronto tra due $\\textbf{x}$.\n",
    "La funzione di merito è:\n",
    "\n",
    "$$\n",
    "\\Phi(\\textbf{x}) = F(\\textbf{x}) + \\mu \\left[ \\text{max}\\{ -c_i(\\textbf{x}):\\; i=1, ...,m \\} \\right]_+,\\; \\textbf{x} \\in \\mathbb{R}^n\n",
    "$$\n",
    "\n",
    "questa funzione serve per determinare l'ottimalità di un punto $\\textbf{x}$ rispetto ad un altro, un vettore $i$ è migliore di un altro $j$ se e soltanto se $\\Phi(\\text{x}_i)<\\Phi(\\text{x}_j)$. Infatti un punto è tanto buono quanto rispetta i constraint del problema, se un punto non li rispetta avrà alcuni $c_i < 0$, per cui prendendo il massimo dei valori non rispettati, moltiplicato per un certo fattore $\\mu$, e sommandolo al valore originario della funzione, si penalizza quel determinato punto. Il pedice $+$ significa che la parentesi quadra viene messa a zero se tutti i constraint sono soddisfatti per quel punto.\n",
    "\n",
    "Una volta presi i punti iniziali, l'algoritmo li ordina per bontà, di modo che $\\Phi(\\textbf{x}^{(0)}) \\leq \\Phi(\\textbf{x}^{(j)})$ per $j = 1, ..., n$. Dopodiché, si trovano dei candidati $\\textbf{x}^{(*)}$ minimi della funzione, per farlo se possibile si risolve il sistema linearizzato controllando che sia rispettata la condizione:\n",
    "\n",
    "$$\n",
    "||\\textbf{x}^{(*)} - \\textbf{x}^{(0)}||_2 \\leq \\rho\n",
    "$$\n",
    "\n",
    "e i constraint:\n",
    "\n",
    "$$\n",
    "\\hat{c}_i(x^{(*)}) \\geq 0,\\; i = 1, ..., m\n",
    "$$\n",
    "\n",
    "se sono tutte verificate e ci sono più candidati, allora si prende il punto che dà il minimo valore di $||\\textbf{x}^{(*)} - \\textbf{x}^{(0)}||_2$.\n",
    "Può capitare che le due diseguaglianze siano in contraddizione, se ciò accade violando la seconda, si definisce $\\textbf{x}^{(*)}$ minimizzando le violazioni dei constraint lineari, tenendo conto della regione di confidenza. Se c'è ancora ambiguità, si guardano i valori di $\\hat{F}$ e si prende quello che li minimizza. E se a questo punto non c'è ancora una sola scelta, il candidato migliore è quello che minimizza $||\\textbf{x}^{(*)} - \\textbf{x}^{(0)}||_2$.\n",
    "\n",
    "Anche $\\mu$ varia e lo fa in base ai valori di $\\textbf{x}^{(*)}$. Inizialmente $\\mu$ è un valore positivo molto piccolo, ma un valore troppo vicino a zero potrebbe portare la condizione $\\hat{\\Phi}(\\textbf{x}^{(*)}) < \\hat{\\Phi}(\\textbf{x}^{(0)})$ a non essere verificata, dove le $\\hat{\\Phi}$ sono le stesse di prima ma con il problema linearizzato. Quindi, se $\\mu$ non è grande abbastanza va revisionato. Sia $\\bar{\\mu}$ il più piccolo valore di $\\mu$ non negativo che soddisfa $\\hat{\\Phi}(\\textbf{x}^{(*)}) < \\hat{\\Phi}(\\textbf{x}^{(0)})$, il valore rimane fisso se $\\mu > \\frac{3}{2}\\bar{\\mu}$, altrimenti $\\mu$ viene sostituito con $2\\hat{\\mu}$. $\\Phi(\\textbf{x}^{(0)}) \\leq \\Phi(\\textbf{x}^{(j)})$ per $j = 1, ..., n$ potrebbe non essere più verificato dopo l'aggiornamento di $\\mu$, se questo succede allora si scambiano coppie di vertici e si ricalcola $\\mu$ fino a quando la situazione diventa accettabile.\n",
    "\n",
    "Ora si vede come si aggiorna $\\rho$, innanzitutto questo valore o rimane invariato o viene ridotto, ma non può mai diventare più grande. L'aggiornamento avviene se\n",
    "\n",
    "$$||\\textbf{x}^{(*)} - \\textbf{x}^{(0)}||_2 < \\frac{1}{2}\\rho\n",
    "$$\n",
    "\n",
    "oppure,\n",
    "\n",
    "$$\\Phi(\\textbf{x}^{(0)}) - \\Phi(\\textbf{x}^{(*)}) < 0.1 \\left[ \\hat{\\Phi}(\\textbf{x}^{(0)}) - \\hat{\\Phi}(\\textbf{x}^{(*)}) \\right]$$\n",
    "\n",
    "questa seconda condizione significa che l'aggiornamento da $\\textbf{x}^{(0)}$ a $\\textbf{x}^{(*)}$ porterebbe a meno di un decimo del miglioramento predetto dall'approssimazione lineare.\n",
    "Il nuovo valore del raggio $\\rho_{\\text{new}}$ viene posto uguale a $\\frac{1}{2} \\rho$ se $\\rho > 3 \\rho_{\\text{end}}$, altrimenti $\\rho_{\\text{new}} = \\rho_{\\text{end}}$, dove $\\rho_{\\text{end}}$ è la precisione numerica che si vorrebbe ottenere sulla soluzione, ed è dato in input dall'utente, e quando questa viene raggiunta l'algoritmo si ferma.\n",
    "Una diminuzione della regione di confidenza potrebbe rendere il simplesso non accettabile, il simplesso è accettabile se\n",
    "\n",
    "\n",
    "\\begin{cases}\n",
    "   \\sigma^{(j)} \\geq \\alpha \\rho \\\\\n",
    "   \\eta^{(j)} \\geq \\beta \\rho\n",
    "\\end{cases}\n",
    "\n",
    "\n",
    "per $j = 1, ..., n$, e $\\alpha$ e $\\beta$ sono costanti scelta in modo da avere $0<\\alpha<1<\\beta$.\n",
    "\n",
    "Il simplesso iniziale viene scelto a partire da $\\rho_{\\text{beg}}$, che è il raggio iniziale della regione di confidenza, e da un punto $\\textbf{x}^{(0)}$, che a seconda delle implementazioni può essere dato in input dall'utente, oppure scelto a caso dal computer. Il simplesso dovrà avere $n+1$ vertici, quindi il programma cicla su $j = 0, ..., n$ e imposta $\\textbf{x}^{(j)} = \\textbf{x}^{(0)} + \\rho_{\\text{beg}} \\textbf{e}_j$, dove $\\textbf{e}_j$ è un vettore di dimensione $n$ con entrate $i \\neq j$ uguali a $0$, e $1$ in $i = j$, inoltre $\\textbf{x}^{(0)}$ viene scambiato con $\\textbf{x}^{(j)}$ se e soltanto se $F(\\textbf{x}^{(j)}) < F(\\textbf{x}^{(0)})$. Il primo simplesso non deve rispettare le condizioni di accettabilità.\n",
    "\n",
    "Il vettore $\\textbf{x}^{(*)}$ non è calcolato ad ogni iterazione, talvolta è preferibile dare priorità alla costruzione di un simplesso accettabile e quindi calcolare un altro punto $\\textbf{x}^{(\\Delta)}$.\n",
    "\n",
    "$\\textbf{x}^{(*)}$ viene calcolato se una di queste condizioni è soddisfatta: è la prima iterazione. L'iterazione precedente ha ridotto $\\rho$. L'iterazione precedente ha calcolato $\\textbf{x}^{(\\Delta)}$. L'iterazione precedente ha calcolato $\\textbf{x}^{(*)}$ e ha ridotto la funzione di merito almeno di un decimo del valore aspettato. Il simplesso attuale è accettabile.\n",
    "$\\textbf{x}^{(\\Delta)}$ è definito come segue: se un qualsiasi valore $\\eta^{(j)}$ è maggiore di $\\beta \\rho$, allora definiamo $l$ come l'intero più piccolo tra gli indici $1, ..., n$ che soddisfa l'equazione:\n",
    "$$\n",
    "\\eta^{(l)} = \\max \\{ \\eta^{(j)}:\\; j=1, ...,n \\} \n",
    "$$\n",
    "\n",
    "altrimenti:\n",
    "\n",
    "$$\n",
    "\\sigma^{(l)} = \\min \\{ \\sigma^{(j)}:\\; j=1, ...,n \\} \n",
    "$$\n",
    "\n",
    "Si prende $\\textbf{v}^{(l)}$, vettore unitario perpendicolare alla faccia opposta al vertice che verrà sostituito, perciò:\n",
    "\n",
    "$$\n",
    "\\textbf{x}^{(\\Delta)} = \\textbf{x}^{(0)} \\pm \\gamma \\rho \\textbf{v}^{(l)}\n",
    "$$\n",
    "\n",
    "dove $\\pm$ indica che si sceglierà il segno dell'operazione in base a quella che minimizza $\\hat{\\Phi}(\\textbf{x}^{(\\Delta)})$\\, e $\\gamma$ è una costante compresa tra $\\alpha$ ed $1$."
   ]
  },
  {
   "cell_type": "markdown",
   "metadata": {},
   "source": [
    "### Sez. 2.3 Risultati"
   ]
  },
  {
   "cell_type": "markdown",
   "metadata": {},
   "source": [
    "Abbiamo a questo punto addestrato l'encoder con i parametri fissati nella sezione 2.1 su 300 iterazioni di COBYLA plottando la loss ad ogni iterazione."
   ]
  },
  {
   "cell_type": "code",
   "execution_count": 6,
   "metadata": {},
   "outputs": [
    {
     "data": {
      "image/png": "[encoded data removed]",
      "text/plain": [
       "<Figure size 640x480 with 1 Axes>"
      ]
     },
     "metadata": {},
     "output_type": "display_data"
    },
    {
     "name": "stderr",
     "output_type": "stream",
     "text": [
      "capi_return is NULL\n",
      "Call-back cb_calcfc_in__cobyla__user__routines failed.\n"
     ]
    },
    {
     "ename": "KeyboardInterrupt",
     "evalue": "",
     "output_type": "error",
     "traceback": [
      "\u001b[0;31m---------------------------------------------------------------------------\u001b[0m",
      "\u001b[0;31mKeyboardInterrupt\u001b[0m                         Traceback (most recent call last)",
      "Cell \u001b[0;32mIn[6], line 11\u001b[0m\n\u001b[1;32m      9\u001b[0m \u001b[38;5;66;03m# Perform optimization\u001b[39;00m\n\u001b[1;32m     10\u001b[0m start \u001b[38;5;241m=\u001b[39m time\u001b[38;5;241m.\u001b[39mtime()\n\u001b[0;32m---> 11\u001b[0m opt_result \u001b[38;5;241m=\u001b[39m \u001b[43mopt\u001b[49m\u001b[38;5;241;43m.\u001b[39;49m\u001b[43mminimize\u001b[49m\u001b[43m(\u001b[49m\u001b[43mcost_function\u001b[49m\u001b[43m,\u001b[49m\u001b[43minitial_point\u001b[49m\u001b[43m)\u001b[49m\n\u001b[1;32m     12\u001b[0m \u001b[38;5;66;03m#print('Cost function value:', cost_function(initial_point))\u001b[39;00m\n\u001b[1;32m     13\u001b[0m elapsed \u001b[38;5;241m=\u001b[39m time\u001b[38;5;241m.\u001b[39mtime() \u001b[38;5;241m-\u001b[39m start\n",
      "File \u001b[0;32m~/Documents/code/quantum-autoencoder/.venv/lib/python3.11/site-packages/qiskit_algorithms/optimizers/scipy_optimizer.py:148\u001b[0m, in \u001b[0;36mSciPyOptimizer.minimize\u001b[0;34m(self, fun, x0, jac, bounds)\u001b[0m\n\u001b[1;32m    145\u001b[0m     swapped_deprecated_args \u001b[38;5;241m=\u001b[39m \u001b[38;5;28;01mTrue\u001b[39;00m\n\u001b[1;32m    146\u001b[0m     \u001b[38;5;28mself\u001b[39m\u001b[38;5;241m.\u001b[39m_options[\u001b[38;5;124m\"\u001b[39m\u001b[38;5;124mmaxfun\u001b[39m\u001b[38;5;124m\"\u001b[39m] \u001b[38;5;241m=\u001b[39m \u001b[38;5;28mself\u001b[39m\u001b[38;5;241m.\u001b[39m_options\u001b[38;5;241m.\u001b[39mpop(\u001b[38;5;124m\"\u001b[39m\u001b[38;5;124mmaxiter\u001b[39m\u001b[38;5;124m\"\u001b[39m)\n\u001b[0;32m--> 148\u001b[0m raw_result \u001b[38;5;241m=\u001b[39m \u001b[43mminimize\u001b[49m\u001b[43m(\u001b[49m\n\u001b[1;32m    149\u001b[0m \u001b[43m    \u001b[49m\u001b[43mfun\u001b[49m\u001b[38;5;241;43m=\u001b[39;49m\u001b[43mfun\u001b[49m\u001b[43m,\u001b[49m\n\u001b[1;32m    150\u001b[0m \u001b[43m    \u001b[49m\u001b[43mx0\u001b[49m\u001b[38;5;241;43m=\u001b[39;49m\u001b[43mx0\u001b[49m\u001b[43m,\u001b[49m\n\u001b[1;32m    151\u001b[0m \u001b[43m    \u001b[49m\u001b[43mmethod\u001b[49m\u001b[38;5;241;43m=\u001b[39;49m\u001b[38;5;28;43mself\u001b[39;49m\u001b[38;5;241;43m.\u001b[39;49m\u001b[43m_method\u001b[49m\u001b[43m,\u001b[49m\n\u001b[1;32m    152\u001b[0m \u001b[43m    \u001b[49m\u001b[43mjac\u001b[49m\u001b[38;5;241;43m=\u001b[39;49m\u001b[43mjac\u001b[49m\u001b[43m,\u001b[49m\n\u001b[1;32m    153\u001b[0m \u001b[43m    \u001b[49m\u001b[43mbounds\u001b[49m\u001b[38;5;241;43m=\u001b[39;49m\u001b[43mbounds\u001b[49m\u001b[43m,\u001b[49m\n\u001b[1;32m    154\u001b[0m \u001b[43m    \u001b[49m\u001b[43moptions\u001b[49m\u001b[38;5;241;43m=\u001b[39;49m\u001b[38;5;28;43mself\u001b[39;49m\u001b[38;5;241;43m.\u001b[39;49m\u001b[43m_options\u001b[49m\u001b[43m,\u001b[49m\n\u001b[1;32m    155\u001b[0m \u001b[43m    \u001b[49m\u001b[38;5;241;43m*\u001b[39;49m\u001b[38;5;241;43m*\u001b[39;49m\u001b[38;5;28;43mself\u001b[39;49m\u001b[38;5;241;43m.\u001b[39;49m\u001b[43m_kwargs\u001b[49m\u001b[43m,\u001b[49m\n\u001b[1;32m    156\u001b[0m \u001b[43m\u001b[49m\u001b[43m)\u001b[49m\n\u001b[1;32m    157\u001b[0m \u001b[38;5;28;01mif\u001b[39;00m swapped_deprecated_args:\n\u001b[1;32m    158\u001b[0m     \u001b[38;5;28mself\u001b[39m\u001b[38;5;241m.\u001b[39m_options[\u001b[38;5;124m\"\u001b[39m\u001b[38;5;124mmaxiter\u001b[39m\u001b[38;5;124m\"\u001b[39m] \u001b[38;5;241m=\u001b[39m \u001b[38;5;28mself\u001b[39m\u001b[38;5;241m.\u001b[39m_options\u001b[38;5;241m.\u001b[39mpop(\u001b[38;5;124m\"\u001b[39m\u001b[38;5;124mmaxfun\u001b[39m\u001b[38;5;124m\"\u001b[39m)\n",
      "File \u001b[0;32m~/Documents/code/quantum-autoencoder/.venv/lib/python3.11/site-packages/scipy/optimize/_minimize.py:716\u001b[0m, in \u001b[0;36mminimize\u001b[0;34m(fun, x0, args, method, jac, hess, hessp, bounds, constraints, tol, callback, options)\u001b[0m\n\u001b[1;32m    713\u001b[0m     res \u001b[38;5;241m=\u001b[39m _minimize_tnc(fun, x0, args, jac, bounds, callback\u001b[38;5;241m=\u001b[39mcallback,\n\u001b[1;32m    714\u001b[0m                         \u001b[38;5;241m*\u001b[39m\u001b[38;5;241m*\u001b[39moptions)\n\u001b[1;32m    715\u001b[0m \u001b[38;5;28;01melif\u001b[39;00m meth \u001b[38;5;241m==\u001b[39m \u001b[38;5;124m'\u001b[39m\u001b[38;5;124mcobyla\u001b[39m\u001b[38;5;124m'\u001b[39m:\n\u001b[0;32m--> 716\u001b[0m     res \u001b[38;5;241m=\u001b[39m \u001b[43m_minimize_cobyla\u001b[49m\u001b[43m(\u001b[49m\u001b[43mfun\u001b[49m\u001b[43m,\u001b[49m\u001b[43m \u001b[49m\u001b[43mx0\u001b[49m\u001b[43m,\u001b[49m\u001b[43m \u001b[49m\u001b[43margs\u001b[49m\u001b[43m,\u001b[49m\u001b[43m \u001b[49m\u001b[43mconstraints\u001b[49m\u001b[43m,\u001b[49m\u001b[43m \u001b[49m\u001b[43mcallback\u001b[49m\u001b[38;5;241;43m=\u001b[39;49m\u001b[43mcallback\u001b[49m\u001b[43m,\u001b[49m\n\u001b[1;32m    717\u001b[0m \u001b[43m                           \u001b[49m\u001b[43mbounds\u001b[49m\u001b[38;5;241;43m=\u001b[39;49m\u001b[43mbounds\u001b[49m\u001b[43m,\u001b[49m\u001b[43m \u001b[49m\u001b[38;5;241;43m*\u001b[39;49m\u001b[38;5;241;43m*\u001b[39;49m\u001b[43moptions\u001b[49m\u001b[43m)\u001b[49m\n\u001b[1;32m    718\u001b[0m \u001b[38;5;28;01melif\u001b[39;00m meth \u001b[38;5;241m==\u001b[39m \u001b[38;5;124m'\u001b[39m\u001b[38;5;124mslsqp\u001b[39m\u001b[38;5;124m'\u001b[39m:\n\u001b[1;32m    719\u001b[0m     res \u001b[38;5;241m=\u001b[39m _minimize_slsqp(fun, x0, args, jac, bounds,\n\u001b[1;32m    720\u001b[0m                           constraints, callback\u001b[38;5;241m=\u001b[39mcallback, \u001b[38;5;241m*\u001b[39m\u001b[38;5;241m*\u001b[39moptions)\n",
      "File \u001b[0;32m~/Documents/code/quantum-autoencoder/.venv/lib/python3.11/site-packages/scipy/optimize/_cobyla_py.py:35\u001b[0m, in \u001b[0;36msynchronized.<locals>.wrapper\u001b[0;34m(*args, **kwargs)\u001b[0m\n\u001b[1;32m     32\u001b[0m \u001b[38;5;129m@functools\u001b[39m\u001b[38;5;241m.\u001b[39mwraps(func)\n\u001b[1;32m     33\u001b[0m \u001b[38;5;28;01mdef\u001b[39;00m \u001b[38;5;21mwrapper\u001b[39m(\u001b[38;5;241m*\u001b[39margs, \u001b[38;5;241m*\u001b[39m\u001b[38;5;241m*\u001b[39mkwargs):\n\u001b[1;32m     34\u001b[0m     \u001b[38;5;28;01mwith\u001b[39;00m _module_lock:\n\u001b[0;32m---> 35\u001b[0m         \u001b[38;5;28;01mreturn\u001b[39;00m \u001b[43mfunc\u001b[49m\u001b[43m(\u001b[49m\u001b[38;5;241;43m*\u001b[39;49m\u001b[43margs\u001b[49m\u001b[43m,\u001b[49m\u001b[43m \u001b[49m\u001b[38;5;241;43m*\u001b[39;49m\u001b[38;5;241;43m*\u001b[39;49m\u001b[43mkwargs\u001b[49m\u001b[43m)\u001b[49m\n",
      "File \u001b[0;32m~/Documents/code/quantum-autoencoder/.venv/lib/python3.11/site-packages/scipy/optimize/_cobyla_py.py:293\u001b[0m, in \u001b[0;36m_minimize_cobyla\u001b[0;34m(fun, x0, args, constraints, rhobeg, tol, maxiter, disp, catol, callback, bounds, **unknown_options)\u001b[0m\n\u001b[1;32m    290\u001b[0m         callback(np\u001b[38;5;241m.\u001b[39mcopy(x))\n\u001b[1;32m    292\u001b[0m info \u001b[38;5;241m=\u001b[39m np\u001b[38;5;241m.\u001b[39mzeros(\u001b[38;5;241m4\u001b[39m, np\u001b[38;5;241m.\u001b[39mfloat64)\n\u001b[0;32m--> 293\u001b[0m xopt, info \u001b[38;5;241m=\u001b[39m \u001b[43mcobyla\u001b[49m\u001b[38;5;241;43m.\u001b[39;49m\u001b[43mminimize\u001b[49m\u001b[43m(\u001b[49m\u001b[43mcalcfc\u001b[49m\u001b[43m,\u001b[49m\u001b[43m \u001b[49m\u001b[43mm\u001b[49m\u001b[38;5;241;43m=\u001b[39;49m\u001b[43mm\u001b[49m\u001b[43m,\u001b[49m\u001b[43m \u001b[49m\u001b[43mx\u001b[49m\u001b[38;5;241;43m=\u001b[39;49m\u001b[43mnp\u001b[49m\u001b[38;5;241;43m.\u001b[39;49m\u001b[43mcopy\u001b[49m\u001b[43m(\u001b[49m\u001b[43mx0\u001b[49m\u001b[43m)\u001b[49m\u001b[43m,\u001b[49m\u001b[43m \u001b[49m\u001b[43mrhobeg\u001b[49m\u001b[38;5;241;43m=\u001b[39;49m\u001b[43mrhobeg\u001b[49m\u001b[43m,\u001b[49m\n\u001b[1;32m    294\u001b[0m \u001b[43m                              \u001b[49m\u001b[43mrhoend\u001b[49m\u001b[38;5;241;43m=\u001b[39;49m\u001b[43mrhoend\u001b[49m\u001b[43m,\u001b[49m\u001b[43m \u001b[49m\u001b[43miprint\u001b[49m\u001b[38;5;241;43m=\u001b[39;49m\u001b[43miprint\u001b[49m\u001b[43m,\u001b[49m\u001b[43m \u001b[49m\u001b[43mmaxfun\u001b[49m\u001b[38;5;241;43m=\u001b[39;49m\u001b[43mmaxfun\u001b[49m\u001b[43m,\u001b[49m\n\u001b[1;32m    295\u001b[0m \u001b[43m                              \u001b[49m\u001b[43mdinfo\u001b[49m\u001b[38;5;241;43m=\u001b[39;49m\u001b[43minfo\u001b[49m\u001b[43m,\u001b[49m\u001b[43m \u001b[49m\u001b[43mcallback\u001b[49m\u001b[38;5;241;43m=\u001b[39;49m\u001b[43mwrapped_callback\u001b[49m\u001b[43m)\u001b[49m\n\u001b[1;32m    297\u001b[0m \u001b[38;5;28;01mif\u001b[39;00m info[\u001b[38;5;241m3\u001b[39m] \u001b[38;5;241m>\u001b[39m catol:\n\u001b[1;32m    298\u001b[0m     \u001b[38;5;66;03m# Check constraint violation\u001b[39;00m\n\u001b[1;32m    299\u001b[0m     info[\u001b[38;5;241m0\u001b[39m] \u001b[38;5;241m=\u001b[39m \u001b[38;5;241m4\u001b[39m\n",
      "File \u001b[0;32m~/Documents/code/quantum-autoencoder/.venv/lib/python3.11/site-packages/scipy/optimize/_cobyla_py.py:281\u001b[0m, in \u001b[0;36m_minimize_cobyla.<locals>.calcfc\u001b[0;34m(x, con)\u001b[0m\n\u001b[1;32m    280\u001b[0m \u001b[38;5;28;01mdef\u001b[39;00m \u001b[38;5;21mcalcfc\u001b[39m(x, con):\n\u001b[0;32m--> 281\u001b[0m     f \u001b[38;5;241m=\u001b[39m \u001b[43msf\u001b[49m\u001b[38;5;241;43m.\u001b[39;49m\u001b[43mfun\u001b[49m\u001b[43m(\u001b[49m\u001b[43mx\u001b[49m\u001b[43m)\u001b[49m\n\u001b[1;32m    282\u001b[0m     i \u001b[38;5;241m=\u001b[39m \u001b[38;5;241m0\u001b[39m\n\u001b[1;32m    283\u001b[0m     \u001b[38;5;28;01mfor\u001b[39;00m size, c \u001b[38;5;129;01min\u001b[39;00m izip(cons_lengths, constraints):\n",
      "File \u001b[0;32m~/Documents/code/quantum-autoencoder/.venv/lib/python3.11/site-packages/scipy/optimize/_differentiable_functions.py:267\u001b[0m, in \u001b[0;36mScalarFunction.fun\u001b[0;34m(self, x)\u001b[0m\n\u001b[1;32m    265\u001b[0m \u001b[38;5;28;01mif\u001b[39;00m \u001b[38;5;129;01mnot\u001b[39;00m np\u001b[38;5;241m.\u001b[39marray_equal(x, \u001b[38;5;28mself\u001b[39m\u001b[38;5;241m.\u001b[39mx):\n\u001b[1;32m    266\u001b[0m     \u001b[38;5;28mself\u001b[39m\u001b[38;5;241m.\u001b[39m_update_x_impl(x)\n\u001b[0;32m--> 267\u001b[0m \u001b[38;5;28;43mself\u001b[39;49m\u001b[38;5;241;43m.\u001b[39;49m\u001b[43m_update_fun\u001b[49m\u001b[43m(\u001b[49m\u001b[43m)\u001b[49m\n\u001b[1;32m    268\u001b[0m \u001b[38;5;28;01mreturn\u001b[39;00m \u001b[38;5;28mself\u001b[39m\u001b[38;5;241m.\u001b[39mf\n",
      "File \u001b[0;32m~/Documents/code/quantum-autoencoder/.venv/lib/python3.11/site-packages/scipy/optimize/_differentiable_functions.py:251\u001b[0m, in \u001b[0;36mScalarFunction._update_fun\u001b[0;34m(self)\u001b[0m\n\u001b[1;32m    249\u001b[0m \u001b[38;5;28;01mdef\u001b[39;00m \u001b[38;5;21m_update_fun\u001b[39m(\u001b[38;5;28mself\u001b[39m):\n\u001b[1;32m    250\u001b[0m     \u001b[38;5;28;01mif\u001b[39;00m \u001b[38;5;129;01mnot\u001b[39;00m \u001b[38;5;28mself\u001b[39m\u001b[38;5;241m.\u001b[39mf_updated:\n\u001b[0;32m--> 251\u001b[0m         \u001b[38;5;28;43mself\u001b[39;49m\u001b[38;5;241;43m.\u001b[39;49m\u001b[43m_update_fun_impl\u001b[49m\u001b[43m(\u001b[49m\u001b[43m)\u001b[49m\n\u001b[1;32m    252\u001b[0m         \u001b[38;5;28mself\u001b[39m\u001b[38;5;241m.\u001b[39mf_updated \u001b[38;5;241m=\u001b[39m \u001b[38;5;28;01mTrue\u001b[39;00m\n",
      "File \u001b[0;32m~/Documents/code/quantum-autoencoder/.venv/lib/python3.11/site-packages/scipy/optimize/_differentiable_functions.py:155\u001b[0m, in \u001b[0;36mScalarFunction.__init__.<locals>.update_fun\u001b[0;34m()\u001b[0m\n\u001b[1;32m    154\u001b[0m \u001b[38;5;28;01mdef\u001b[39;00m \u001b[38;5;21mupdate_fun\u001b[39m():\n\u001b[0;32m--> 155\u001b[0m     \u001b[38;5;28mself\u001b[39m\u001b[38;5;241m.\u001b[39mf \u001b[38;5;241m=\u001b[39m \u001b[43mfun_wrapped\u001b[49m\u001b[43m(\u001b[49m\u001b[38;5;28;43mself\u001b[39;49m\u001b[38;5;241;43m.\u001b[39;49m\u001b[43mx\u001b[49m\u001b[43m)\u001b[49m\n",
      "File \u001b[0;32m~/Documents/code/quantum-autoencoder/.venv/lib/python3.11/site-packages/scipy/optimize/_differentiable_functions.py:137\u001b[0m, in \u001b[0;36mScalarFunction.__init__.<locals>.fun_wrapped\u001b[0;34m(x)\u001b[0m\n\u001b[1;32m    133\u001b[0m \u001b[38;5;28mself\u001b[39m\u001b[38;5;241m.\u001b[39mnfev \u001b[38;5;241m+\u001b[39m\u001b[38;5;241m=\u001b[39m \u001b[38;5;241m1\u001b[39m\n\u001b[1;32m    134\u001b[0m \u001b[38;5;66;03m# Send a copy because the user may overwrite it.\u001b[39;00m\n\u001b[1;32m    135\u001b[0m \u001b[38;5;66;03m# Overwriting results in undefined behaviour because\u001b[39;00m\n\u001b[1;32m    136\u001b[0m \u001b[38;5;66;03m# fun(self.x) will change self.x, with the two no longer linked.\u001b[39;00m\n\u001b[0;32m--> 137\u001b[0m fx \u001b[38;5;241m=\u001b[39m \u001b[43mfun\u001b[49m\u001b[43m(\u001b[49m\u001b[43mnp\u001b[49m\u001b[38;5;241;43m.\u001b[39;49m\u001b[43mcopy\u001b[49m\u001b[43m(\u001b[49m\u001b[43mx\u001b[49m\u001b[43m)\u001b[49m\u001b[43m,\u001b[49m\u001b[43m \u001b[49m\u001b[38;5;241;43m*\u001b[39;49m\u001b[43margs\u001b[49m\u001b[43m)\u001b[49m\n\u001b[1;32m    138\u001b[0m \u001b[38;5;66;03m# Make sure the function returns a true scalar\u001b[39;00m\n\u001b[1;32m    139\u001b[0m \u001b[38;5;28;01mif\u001b[39;00m \u001b[38;5;129;01mnot\u001b[39;00m np\u001b[38;5;241m.\u001b[39misscalar(fx):\n",
      "Cell \u001b[0;32mIn[5], line 3\u001b[0m, in \u001b[0;36mcost_function\u001b[0;34m(params_values)\u001b[0m\n\u001b[1;32m      1\u001b[0m \u001b[38;5;28;01mdef\u001b[39;00m \u001b[38;5;21mcost_function\u001b[39m(params_values):\n\u001b[1;32m      2\u001b[0m     \u001b[38;5;66;03m#calcolo probabilità passando i nuovi parametri\u001b[39;00m\n\u001b[0;32m----> 3\u001b[0m     probabilities \u001b[38;5;241m=\u001b[39m \u001b[43mqnn\u001b[49m\u001b[38;5;241;43m.\u001b[39;49m\u001b[43mforward\u001b[49m\u001b[43m(\u001b[49m\u001b[43m[\u001b[49m\u001b[43m]\u001b[49m\u001b[43m,\u001b[49m\u001b[43m \u001b[49m\u001b[43mparams_values\u001b[49m\u001b[43m)\u001b[49m\n\u001b[1;32m      4\u001b[0m     \u001b[38;5;66;03m# probabilità di ottenere 1 come output della simulazione, cioè la funzione costo\u001b[39;00m\n\u001b[1;32m      5\u001b[0m     cost \u001b[38;5;241m=\u001b[39m np\u001b[38;5;241m.\u001b[39msum(probabilities[:, \u001b[38;5;241m1\u001b[39m])\n",
      "File \u001b[0;32m~/Documents/code/quantum-autoencoder/.venv/lib/python3.11/site-packages/qiskit_machine_learning/neural_networks/neural_network.py:226\u001b[0m, in \u001b[0;36mNeuralNetwork.forward\u001b[0;34m(self, input_data, weights)\u001b[0m\n\u001b[1;32m    224\u001b[0m input_, shape \u001b[38;5;241m=\u001b[39m \u001b[38;5;28mself\u001b[39m\u001b[38;5;241m.\u001b[39m_validate_input(input_data)\n\u001b[1;32m    225\u001b[0m weights_ \u001b[38;5;241m=\u001b[39m \u001b[38;5;28mself\u001b[39m\u001b[38;5;241m.\u001b[39m_validate_weights(weights)\n\u001b[0;32m--> 226\u001b[0m output_data \u001b[38;5;241m=\u001b[39m \u001b[38;5;28;43mself\u001b[39;49m\u001b[38;5;241;43m.\u001b[39;49m\u001b[43m_forward\u001b[49m\u001b[43m(\u001b[49m\u001b[43minput_\u001b[49m\u001b[43m,\u001b[49m\u001b[43m \u001b[49m\u001b[43mweights_\u001b[49m\u001b[43m)\u001b[49m\n\u001b[1;32m    227\u001b[0m \u001b[38;5;28;01mreturn\u001b[39;00m \u001b[38;5;28mself\u001b[39m\u001b[38;5;241m.\u001b[39m_validate_forward_output(output_data, shape)\n",
      "File \u001b[0;32m~/Documents/code/quantum-autoencoder/.venv/lib/python3.11/site-packages/qiskit_machine_learning/neural_networks/sampler_qnn.py:390\u001b[0m, in \u001b[0;36mSamplerQNN._forward\u001b[0;34m(self, input_data, weights)\u001b[0m\n\u001b[1;32m    388\u001b[0m job \u001b[38;5;241m=\u001b[39m \u001b[38;5;28mself\u001b[39m\u001b[38;5;241m.\u001b[39msampler\u001b[38;5;241m.\u001b[39mrun([\u001b[38;5;28mself\u001b[39m\u001b[38;5;241m.\u001b[39m_circuit] \u001b[38;5;241m*\u001b[39m num_samples, parameter_values)\n\u001b[1;32m    389\u001b[0m \u001b[38;5;28;01mtry\u001b[39;00m:\n\u001b[0;32m--> 390\u001b[0m     results \u001b[38;5;241m=\u001b[39m \u001b[43mjob\u001b[49m\u001b[38;5;241;43m.\u001b[39;49m\u001b[43mresult\u001b[49m\u001b[43m(\u001b[49m\u001b[43m)\u001b[49m\n\u001b[1;32m    391\u001b[0m \u001b[38;5;28;01mexcept\u001b[39;00m \u001b[38;5;167;01mException\u001b[39;00m \u001b[38;5;28;01mas\u001b[39;00m exc:\n\u001b[1;32m    392\u001b[0m     \u001b[38;5;28;01mraise\u001b[39;00m QiskitMachineLearningError(\u001b[38;5;124m\"\u001b[39m\u001b[38;5;124mSampler job failed.\u001b[39m\u001b[38;5;124m\"\u001b[39m) \u001b[38;5;28;01mfrom\u001b[39;00m \u001b[38;5;21;01mexc\u001b[39;00m\n",
      "File \u001b[0;32m~/Documents/code/quantum-autoencoder/.venv/lib/python3.11/site-packages/qiskit/primitives/primitive_job.py:55\u001b[0m, in \u001b[0;36mPrimitiveJob.result\u001b[0;34m(self)\u001b[0m\n\u001b[1;32m     53\u001b[0m \u001b[38;5;250m\u001b[39m\u001b[38;5;124;03m\"\"\"Return the results of the job.\"\"\"\u001b[39;00m\n\u001b[1;32m     54\u001b[0m \u001b[38;5;28mself\u001b[39m\u001b[38;5;241m.\u001b[39m_check_submitted()\n\u001b[0;32m---> 55\u001b[0m \u001b[38;5;28;01mreturn\u001b[39;00m \u001b[38;5;28;43mself\u001b[39;49m\u001b[38;5;241;43m.\u001b[39;49m\u001b[43m_future\u001b[49m\u001b[38;5;241;43m.\u001b[39;49m\u001b[43mresult\u001b[49m\u001b[43m(\u001b[49m\u001b[43m)\u001b[49m\n",
      "File \u001b[0;32m/usr/lib/python3.11/concurrent/futures/_base.py:451\u001b[0m, in \u001b[0;36mFuture.result\u001b[0;34m(self, timeout)\u001b[0m\n\u001b[1;32m    448\u001b[0m \u001b[38;5;28;01melif\u001b[39;00m \u001b[38;5;28mself\u001b[39m\u001b[38;5;241m.\u001b[39m_state \u001b[38;5;241m==\u001b[39m FINISHED:\n\u001b[1;32m    449\u001b[0m     \u001b[38;5;28;01mreturn\u001b[39;00m \u001b[38;5;28mself\u001b[39m\u001b[38;5;241m.\u001b[39m__get_result()\n\u001b[0;32m--> 451\u001b[0m \u001b[38;5;28;43mself\u001b[39;49m\u001b[38;5;241;43m.\u001b[39;49m\u001b[43m_condition\u001b[49m\u001b[38;5;241;43m.\u001b[39;49m\u001b[43mwait\u001b[49m\u001b[43m(\u001b[49m\u001b[43mtimeout\u001b[49m\u001b[43m)\u001b[49m\n\u001b[1;32m    453\u001b[0m \u001b[38;5;28;01mif\u001b[39;00m \u001b[38;5;28mself\u001b[39m\u001b[38;5;241m.\u001b[39m_state \u001b[38;5;129;01min\u001b[39;00m [CANCELLED, CANCELLED_AND_NOTIFIED]:\n\u001b[1;32m    454\u001b[0m     \u001b[38;5;28;01mraise\u001b[39;00m CancelledError()\n",
      "File \u001b[0;32m/usr/lib/python3.11/threading.py:320\u001b[0m, in \u001b[0;36mCondition.wait\u001b[0;34m(self, timeout)\u001b[0m\n\u001b[1;32m    318\u001b[0m \u001b[38;5;28;01mtry\u001b[39;00m:    \u001b[38;5;66;03m# restore state no matter what (e.g., KeyboardInterrupt)\u001b[39;00m\n\u001b[1;32m    319\u001b[0m     \u001b[38;5;28;01mif\u001b[39;00m timeout \u001b[38;5;129;01mis\u001b[39;00m \u001b[38;5;28;01mNone\u001b[39;00m:\n\u001b[0;32m--> 320\u001b[0m         \u001b[43mwaiter\u001b[49m\u001b[38;5;241;43m.\u001b[39;49m\u001b[43macquire\u001b[49m\u001b[43m(\u001b[49m\u001b[43m)\u001b[49m\n\u001b[1;32m    321\u001b[0m         gotit \u001b[38;5;241m=\u001b[39m \u001b[38;5;28;01mTrue\u001b[39;00m\n\u001b[1;32m    322\u001b[0m     \u001b[38;5;28;01melse\u001b[39;00m:\n",
      "\u001b[0;31mKeyboardInterrupt\u001b[0m: "
     ]
    }
   ],
   "source": [
    "objective_func_vals = []\n",
    "# Initialize the COBYLA optimizer\n",
    "opt = COBYLA(maxiter=300)\n",
    "num_parameters = Circuit.num_parameters\n",
    "initial_point = np.random.rand(num_parameters)  # Set the initial parameters\n",
    "print('Number of parameters in quantum circuit: ',Circuit.num_parameters)\n",
    "print('Initial parameters in quantum circuit: ',initial_point)\n",
    "\n",
    "# Perform optimization\n",
    "start = time.time()\n",
    "opt_result = opt.minimize(cost_function,initial_point)\n",
    "#print('Cost function value:', cost_function(initial_point))\n",
    "elapsed = time.time() - start\n",
    "\n",
    "print(f\"Fit in {elapsed:0.2f} seconds\")"
   ]
  },
  {
   "cell_type": "markdown",
   "metadata": {},
   "source": [
    "<div style=\"text-align:center\">\n",
    "    <img src=\"./immagini/plot_loss-time.png\" alt=\"Alt Text\" width=\"500\">\n",
    "    <p><em>Figure 9: plot loss-time.</em></p>\n",
    "</div>"
   ]
  },
  {
   "cell_type": "markdown",
   "metadata": {},
   "source": [
    "Al termine del processo di ottimizzazione è possibile costruire il decoder e aggiungerlo all'encoder, in questo modo si riesce a ricostruire lo stato originario a partire dal suo encoding nello spazio latente."
   ]
  },
  {
   "cell_type": "code",
   "execution_count": 8,
   "metadata": {},
   "outputs": [],
   "source": [
    "test_qc = QuantumCircuit(len(q))\n",
    "test_qc = test_qc.compose(original_state)\n",
    "ansatz_qc = AnsatzBuilder(len(q), Depth)\n",
    "test_qc = test_qc.compose(ansatz_qc)\n",
    "test_qc.barrier()\n",
    "test_qc.reset(9)\n",
    "test_qc.reset(8)\n",
    "test_qc.reset(7)\n",
    "test_qc.reset(6)\n",
    "test_qc.reset(5)\n",
    "test_qc.reset(4)\n",
    "test_qc.reset(3)\n",
    "test_qc.barrier()\n",
    "test_qc = test_qc.compose(ansatz_qc.inverse())\n",
    "test_qc.draw('mpl', filename='test_circuit.png')"
   ]
  },
  {
   "cell_type": "markdown",
   "metadata": {},
   "source": [
    "<div style=\"text-align:center\">\n",
    "    <img src=\"./immagini/Autoencoder.jpeg\" alt=\"Alt Text\" width=\"1000\">\n",
    "    <p><em>Figure 10: Autoencoder.</em></p>\n",
    "</div>"
   ]
  },
  {
   "cell_type": "markdown",
   "metadata": {},
   "source": [
    "Ai parametri del circuito vengono assegnati i risultati calcolati da COBYLA."
   ]
  },
  {
   "cell_type": "code",
   "execution_count": null,
   "metadata": {},
   "outputs": [],
   "source": [
    "test_qc = test_qc.assign_parameters(opt_result.x)"
   ]
  },
  {
   "cell_type": "markdown",
   "metadata": {},
   "source": [
    "Ora ci sono sono tutti gli ingredienti per poter misurare la fidelity tra lo stato ricostruito e lo stato originario."
   ]
  },
  {
   "cell_type": "code",
   "execution_count": null,
   "metadata": {},
   "outputs": [
    {
     "name": "stdout",
     "output_type": "stream",
     "text": [
      "Fidelity of our Output State with our Input State:  0.9968967329295054\n"
     ]
    }
   ],
   "source": [
    "from qiskit.quantum_info import Statevector\n",
    "\n",
    "original_state = Statevector(original_state).data\n",
    "output_state = Statevector(test_qc).data\n",
    "\n",
    "fidelity = np.abs(np.dot(original_state.conj(), output_state))\n",
    "print(\"Fidelity of our Output State with our Input State: \", fidelity)"
   ]
  },
  {
   "cell_type": "markdown",
   "metadata": {},
   "source": [
    "# Sezione 3 Caratterizzazione"
   ]
  },
  {
   "cell_type": "markdown",
   "metadata": {},
   "source": [
    "Il circuito ha diversi iperparametri, la scelta di questi ha sicuramente un effetto sul suo funzionamento e quindi sui risultati finali. In questa sezione si propone una caratterizzazione dell'autoencoder quantistico per valutare l'influenza di questi iperparametri. A tal fine si considerano stati di dimensione $n$, al massimo di $n = 10$ qubit, questi vengono compressi in stati di dimensione da 1 fino a stati di dimensione $n-1$, e per ciascun encoding si calcola la fidelity e l'ultimo valore della loss. Questi valori vengono visualizzati con delle heat map, mostrando il comportamente del circuito."
   ]
  },
  {
   "cell_type": "code",
   "execution_count": null,
   "metadata": {},
   "outputs": [],
   "source": [
    "import copy"
   ]
  },
  {
   "cell_type": "code",
   "execution_count": null,
   "metadata": {},
   "outputs": [],
   "source": [
    "%%time\n",
    "fidelity_range = 10\n",
    "fidelity_matrix = np.zeros((fidelity_range, fidelity_range))\n",
    "\n",
    "last_score_matrix = copy.deepcopy(fidelity_matrix)\n",
    "std_fidelity_matrix = copy.deepcopy(fidelity_matrix)\n",
    "std_last_score_matrix = copy.deepcopy(fidelity_matrix)\n",
    "\n",
    "Depth = 5 #Depth of the encoder\n",
    "\n",
    "opt = COBYLA(maxiter = 200, tol = 1e-2)\n",
    "\n",
    "k = 0 # Counter for the number of iterations\n",
    "reps = 5 # How many times do we want to repeat the compression\n",
    "\n",
    "tot = ((fidelity_range - 1) * fidelity_range / 2) * reps  # Total number of iterations = number of entries * number of reps\n",
    "\n",
    "np.random.seed(42) #set a seed for repeatability \n",
    "\n",
    "for i in range(1, fidelity_range + 1, 1): # for loop on input dimensions\n",
    "    \n",
    "    for j in range(1, i, 1): # for loop on output dimensions\n",
    "        \n",
    "        data_fid = np.empty(reps) # array for computing the std of the fidelity value\n",
    "        data_last_sc = np.empty(reps) # array for computing the std of the last score value\n",
    "                \n",
    "        for rep in range(reps):\n",
    "\n",
    "            k = k + 1 # update to keep track of the process\n",
    "\n",
    "            clear_output(wait=True)\n",
    "            print('{:.0f}'.format((k / tot) * 100), \"%\") #print the progress of the process\n",
    "\n",
    "            q = list(np.random.randint(2, size = i)) # state to compress\n",
    "\n",
    "            InputStateDimension = i\n",
    "\n",
    "            original_state = QuantumCircuit(len(q))\n",
    "            for z in range(original_state.num_qubits):\n",
    "                original_state.reset(z)\n",
    "            for z in range(InputStateDimension):\n",
    "                if q[z] == 1:\n",
    "                    original_state.x(z)\n",
    "\n",
    "            EncodedStateDimension = j\n",
    "\n",
    "\n",
    "            # Costruisco encoder\n",
    "\n",
    "            Encoder = EncoderBuilder(InputStateDimension, EncodedStateDimension, Depth)\n",
    "            # Costruisco circuito generico\n",
    "            Circuit = QuantumCircuit(Encoder.num_qubits, Encoder.num_clbits)\n",
    "            for z in range(Circuit.num_qubits):\n",
    "                Circuit.reset(z)\n",
    "            for z in range(InputStateDimension):\n",
    "                if q[z] == 1:\n",
    "                    Circuit.x(z)\n",
    "\n",
    "            Circuit.compose(Encoder, inplace = True)\n",
    "\n",
    "            qnn = SamplerQNN(\n",
    "                circuit=Circuit, # circuito completo\n",
    "                input_params=[], # guess iniziale lasciato a SamplerQNN, quindi randomici\n",
    "                weight_params=Circuit.parameters, # identificato i parametri del circuito, quindi i parametri di RealAmplitudes\n",
    "                interpret=identity_interpret,\n",
    "                output_shape=2, # l'output del circuito può essere 1 o 0, una stringa binaria di dimensione 2\n",
    "            )\n",
    "\n",
    "            objective_func_vals = []\n",
    "\n",
    "            # Initialize the COBYLA optimizer\n",
    "            num_parameters = Circuit.num_parameters\n",
    "            initial_point = np.random.rand(num_parameters)  # Set the initial parameters\n",
    "\n",
    "            # Perform optimization\n",
    "            opt_result = opt.minimize(cost_function, initial_point)\n",
    "\n",
    "            # Build the decoder\n",
    "            test_qc = QuantumCircuit(len(q))\n",
    "            test_qc = test_qc.compose(original_state)\n",
    "            ansatz_qc = AnsatzBuilder(len(q), Depth)\n",
    "            test_qc = test_qc.compose(ansatz_qc)\n",
    "            test_qc.barrier()\n",
    "            for z in range(i - j):\n",
    "                test_qc.reset(i - 1 - z)\n",
    "            test_qc.barrier()\n",
    "            test_qc = test_qc.compose(ansatz_qc.inverse())\n",
    "            test_qc = test_qc.assign_parameters(opt_result.x)\n",
    "\n",
    "            # Perform fidelity measure\n",
    "            original_state = Statevector(original_state).data\n",
    "            output_state = Statevector(test_qc).data\n",
    "\n",
    "            f = np.abs(np.dot(original_state.conj(), output_state)) # Compute fidelity\n",
    "            \n",
    "            fidelity_matrix[fidelity_range - i, j - 1] = fidelity_matrix[fidelity_range - i, j - 1] + copy.deepcopy(f)\n",
    "\n",
    "            last_score_matrix[fidelity_range - i, j - 1] = last_score_matrix[fidelity_range - i, j - 1] + (1 - copy.deepcopy(objective_func_vals[-1]))\n",
    "            \n",
    "            data_fid[rep] = copy.deepcopy(f)\n",
    "            data_last_sc[rep] = (1 - copy.deepcopy(objective_func_vals[-1]))\n",
    "            \n",
    "            \n",
    "        std_fidelity_matrix[fidelity_range - i, j - 1] = np.std(data_fid)\n",
    "        std_last_score_matrix[fidelity_range - i, j - 1] = np.std(data_last_sc)"
   ]
  },
  {
   "cell_type": "code",
   "execution_count": null,
   "metadata": {},
   "outputs": [],
   "source": [
    "import seaborn as sns\n",
    "\n",
    "# Specify custom x and y axis labels\n",
    "x_labels = list(np.arange(1, fidelity_range + 1))\n",
    "y_labels = x_labels[::-1]\n",
    "\n",
    "fidelity_matrix = fidelity_matrix / reps\n",
    "\n",
    "# Create a heatmap using seaborn\n",
    "\n",
    "plt.figure(figsize=(10, 8))\n",
    "\n",
    "sns.heatmap(fidelity_matrix, xticklabels=x_labels, yticklabels=y_labels, annot=True, cmap=\"YlGnBu\")\n",
    "\n",
    "# Add labels and title\n",
    "plt.xlabel('Encoded Dimension')\n",
    "plt.ylabel('Input Dimension')\n",
    "plt.title('Limiti di convergenza, Fidelity, depth = 5')\n",
    "\n",
    "# Show the plot\n",
    "plt.show()"
   ]
  },
  {
   "cell_type": "markdown",
   "metadata": {},
   "source": [
    "<div style=\"text-align:center\">\n",
    "    <img src=\"./immagini/fid_depth5.png\" alt=\"Alt Text\" width=\"1000\">\n",
    "    <p><em>Figure 11: Heat Map della fidelity per un autoencoder di profondità 5.</em></p>\n",
    "</div>"
   ]
  },
  {
   "cell_type": "markdown",
   "metadata": {},
   "source": [
    "E variando la profondità si costruisco i plot per $\\text{depth} = 2, 5, 10$ di fidelity e 1 - Loss."
   ]
  },
  {
   "cell_type": "markdown",
   "metadata": {},
   "source": [
    "<table><tr>\n",
    "<td> <img src=\"./immagini/fid_depth2.png\" alt=\"Alt Text\" width=\"600\"> </td>\n",
    "<td> <img src=\"./immagini/fid_depth5.png\" alt=\"Alt Text\" width=\"600\"> </td>\n",
    "<td> <img src=\"./immagini/fid_depth10.png\" alt=\"Alt Text\" width=\"600\"> </td>\n",
    "</tr></table>\n",
    "<p><em>Figure 12: Heat Maps della fidelity per un autoencoder di profondità 2, 5 e 10.</em></p>"
   ]
  },
  {
   "cell_type": "markdown",
   "metadata": {},
   "source": [
    "<table><tr>\n",
    "<td> <img src=\"./immagini/lsc_depth2.png\" alt=\"Alt Text\" width=\"600\"> </td>\n",
    "<td> <img src=\"./immagini/lsc_depth5.png\" alt=\"Alt Text\" width=\"600\"> </td>\n",
    "<td> <img src=\"./immagini/lsc_depth10.png\" alt=\"Alt Text\" width=\"600\"> </td>\n",
    "</tr></table>\n",
    "\n",
    "<p><em>Figure 13: Heat Maps di 1 - Loss per un autoencoder di profondità 2, 5 e 10.</em></p>"
   ]
  },
  {
   "cell_type": "markdown",
   "metadata": {},
   "source": [
    "Il primo risultato evidente di queste immagini è che più si cerca di comprimere, ovvero più la dimensione dello stato di partenza e la dimensione dello stato compresso sono distanti, più i risultati non sono ottimali. Infatti, si vede chiaramente per esempio, che la compressione con peggiori performance è quella che riguarda lo stato di dimensione 10.\n",
    "Si può anche osservare come l'ottimizzazione peggiori all'aumentare dell'iperparametro di depth, questo è devuto al fatto che COBYLA lavora meglio su problemi a bassa dimensionalità, aumentando eccessivamente la dimensione dello spazio da esplorare, il volume di questo esplode e quindi l'algoritmo ha difficoltà a ricercare minimi. Inoltre, ad alte dimensioni le funzioni target potrebbero diventare fortemente non lineari, e siccome COBYLA lavora con approssimazioni lineari della funzione, queste potrebbero diventare poco accurate. Ed infine, siccome il metodo implementa una ricerca locale del minimo intorno ad una guess iniziale, a causa dell'alta dimensionalità, e quindi dell'alta non linearità del target, la ricerca potrebbe rimanere bloccata in un minimo locale."
   ]
  },
  {
   "cell_type": "markdown",
   "metadata": {},
   "source": [
    "# Bibliografia"
   ]
  },
  {
   "cell_type": "markdown",
   "metadata": {},
   "source": [
    "[1]  Jonathan Romero, Jonathan P. Olson and Alan Aspuru-Guzik, \"Quantum autoencoders for efficient compression of quantum data\", Quantum Science and Technology, 2017\n",
    "\n",
    "[2] Qiskit machine learning tutorials, \"The quantum autoencoder\", https://qiskit.org/ecosystem/machine-learning/tutorials/12_quantum_autoencoder.html\n",
    "\n",
    "[3] Powell, M J D. A direct search optimization method that models the objective and constraint functions by linear interpolation. 1994. Advances in Optimization and Numerical Analysis, eds. S. Gomez and J-P Hennart, Kluwer Academic (Dordrecht), 51-67."
   ]
  }
 ],
 "metadata": {
  "kernelspec": {
   "display_name": "Python 3 (ipykernel)",
   "language": "python",
   "name": "python3"
  },
  "language_info": {
   "codemirror_mode": {
    "name": "ipython",
    "version": 3
   },
   "file_extension": ".py",
   "mimetype": "text/x-python",
   "name": "python",
   "nbconvert_exporter": "python",
   "pygments_lexer": "ipython3",
   "version": "3.11.2"
  }
 },
 "nbformat": 4,
 "nbformat_minor": 4
}
